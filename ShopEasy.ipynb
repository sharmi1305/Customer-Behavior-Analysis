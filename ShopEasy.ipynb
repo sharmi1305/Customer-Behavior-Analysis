{
 "cells": [
  {
   "cell_type": "markdown",
   "id": "33a7625f-90ff-468d-bf83-112cb9448869",
   "metadata": {},
   "source": [
    "# Customer Behaviour Analysis"
   ]
  },
  {
   "cell_type": "code",
   "execution_count": 36,
   "id": "80fb8fc1-79f8-4fd6-b02b-d66cc3827d3c",
   "metadata": {},
   "outputs": [
    {
     "name": "stdout",
     "output_type": "stream",
     "text": [
      "Requirement already satisfied: pandas in c:\\users\\ajay\\anaconda3\\lib\\site-packages (2.2.2)\n",
      "Requirement already satisfied: numpy>=1.26.0 in c:\\users\\ajay\\anaconda3\\lib\\site-packages (from pandas) (1.26.4)\n",
      "Requirement already satisfied: python-dateutil>=2.8.2 in c:\\users\\ajay\\anaconda3\\lib\\site-packages (from pandas) (2.9.0.post0)\n",
      "Requirement already satisfied: pytz>=2020.1 in c:\\users\\ajay\\anaconda3\\lib\\site-packages (from pandas) (2024.1)\n",
      "Requirement already satisfied: tzdata>=2022.7 in c:\\users\\ajay\\anaconda3\\lib\\site-packages (from pandas) (2023.3)\n",
      "Requirement already satisfied: six>=1.5 in c:\\users\\ajay\\anaconda3\\lib\\site-packages (from python-dateutil>=2.8.2->pandas) (1.16.0)\n"
     ]
    }
   ],
   "source": [
    "!pip install pandas"
   ]
  },
  {
   "cell_type": "code",
   "execution_count": 37,
   "id": "86f24d1a-322f-40f2-8ff4-2e48b002c0d1",
   "metadata": {},
   "outputs": [],
   "source": [
    "import pandas as pd"
   ]
  },
  {
   "cell_type": "markdown",
   "id": "1b048a43-5603-4d5e-bbca-280dfd4a8f87",
   "metadata": {},
   "source": [
    "# Download CSV Files & Load Data into SQL (Python & SQL)\n"
   ]
  },
  {
   "cell_type": "markdown",
   "id": "b23a9ebc-7673-4fed-ac49-50608bfda651",
   "metadata": {},
   "source": [
    "# Products"
   ]
  },
  {
   "cell_type": "code",
   "execution_count": 38,
   "id": "af002fcd-4c46-4717-a8b8-2dcf7e2a4f26",
   "metadata": {},
   "outputs": [],
   "source": [
    "df_Products = pd.read_csv(\"Products.csv\")"
   ]
  },
  {
   "cell_type": "code",
   "execution_count": 39,
   "id": "6dddf8a8-b93c-4d98-8f68-140691f8ad40",
   "metadata": {},
   "outputs": [
    {
     "data": {
      "text/html": [
       "<div>\n",
       "<style scoped>\n",
       "    .dataframe tbody tr th:only-of-type {\n",
       "        vertical-align: middle;\n",
       "    }\n",
       "\n",
       "    .dataframe tbody tr th {\n",
       "        vertical-align: top;\n",
       "    }\n",
       "\n",
       "    .dataframe thead th {\n",
       "        text-align: right;\n",
       "    }\n",
       "</style>\n",
       "<table border=\"1\" class=\"dataframe\">\n",
       "  <thead>\n",
       "    <tr style=\"text-align: right;\">\n",
       "      <th></th>\n",
       "      <th>ProductID</th>\n",
       "      <th>ProductName</th>\n",
       "      <th>Category</th>\n",
       "      <th>Price</th>\n",
       "    </tr>\n",
       "  </thead>\n",
       "  <tbody>\n",
       "    <tr>\n",
       "      <th>0</th>\n",
       "      <td>1</td>\n",
       "      <td>Running Shoes</td>\n",
       "      <td>Sports</td>\n",
       "      <td>223.75</td>\n",
       "    </tr>\n",
       "    <tr>\n",
       "      <th>1</th>\n",
       "      <td>2</td>\n",
       "      <td>Fitness Tracker</td>\n",
       "      <td>Sports</td>\n",
       "      <td>196.68</td>\n",
       "    </tr>\n",
       "    <tr>\n",
       "      <th>2</th>\n",
       "      <td>3</td>\n",
       "      <td>Yoga Mat</td>\n",
       "      <td>Sports</td>\n",
       "      <td>485.32</td>\n",
       "    </tr>\n",
       "    <tr>\n",
       "      <th>3</th>\n",
       "      <td>4</td>\n",
       "      <td>Dumbbells</td>\n",
       "      <td>Sports</td>\n",
       "      <td>26.21</td>\n",
       "    </tr>\n",
       "    <tr>\n",
       "      <th>4</th>\n",
       "      <td>5</td>\n",
       "      <td>Soccer Ball</td>\n",
       "      <td>Sports</td>\n",
       "      <td>41.26</td>\n",
       "    </tr>\n",
       "    <tr>\n",
       "      <th>5</th>\n",
       "      <td>6</td>\n",
       "      <td>Tennis Racket</td>\n",
       "      <td>Sports</td>\n",
       "      <td>36.07</td>\n",
       "    </tr>\n",
       "    <tr>\n",
       "      <th>6</th>\n",
       "      <td>7</td>\n",
       "      <td>Basketball</td>\n",
       "      <td>Sports</td>\n",
       "      <td>225.12</td>\n",
       "    </tr>\n",
       "    <tr>\n",
       "      <th>7</th>\n",
       "      <td>8</td>\n",
       "      <td>Football Helmet</td>\n",
       "      <td>Sports</td>\n",
       "      <td>44.75</td>\n",
       "    </tr>\n",
       "    <tr>\n",
       "      <th>8</th>\n",
       "      <td>9</td>\n",
       "      <td>Baseball Glove</td>\n",
       "      <td>Sports</td>\n",
       "      <td>327.36</td>\n",
       "    </tr>\n",
       "    <tr>\n",
       "      <th>9</th>\n",
       "      <td>10</td>\n",
       "      <td>Golf Clubs</td>\n",
       "      <td>Sports</td>\n",
       "      <td>81.59</td>\n",
       "    </tr>\n",
       "    <tr>\n",
       "      <th>10</th>\n",
       "      <td>11</td>\n",
       "      <td>Ski Boots</td>\n",
       "      <td>Sports</td>\n",
       "      <td>340.20</td>\n",
       "    </tr>\n",
       "    <tr>\n",
       "      <th>11</th>\n",
       "      <td>12</td>\n",
       "      <td>Ice Skates</td>\n",
       "      <td>Sports</td>\n",
       "      <td>37.56</td>\n",
       "    </tr>\n",
       "    <tr>\n",
       "      <th>12</th>\n",
       "      <td>13</td>\n",
       "      <td>Swim Goggles</td>\n",
       "      <td>Sports</td>\n",
       "      <td>145.97</td>\n",
       "    </tr>\n",
       "    <tr>\n",
       "      <th>13</th>\n",
       "      <td>14</td>\n",
       "      <td>Cycling Helmet</td>\n",
       "      <td>Sports</td>\n",
       "      <td>472.32</td>\n",
       "    </tr>\n",
       "    <tr>\n",
       "      <th>14</th>\n",
       "      <td>15</td>\n",
       "      <td>Climbing Rope</td>\n",
       "      <td>Sports</td>\n",
       "      <td>410.17</td>\n",
       "    </tr>\n",
       "    <tr>\n",
       "      <th>15</th>\n",
       "      <td>16</td>\n",
       "      <td>Kayak</td>\n",
       "      <td>Sports</td>\n",
       "      <td>259.40</td>\n",
       "    </tr>\n",
       "    <tr>\n",
       "      <th>16</th>\n",
       "      <td>17</td>\n",
       "      <td>Surfboard</td>\n",
       "      <td>Sports</td>\n",
       "      <td>275.43</td>\n",
       "    </tr>\n",
       "    <tr>\n",
       "      <th>17</th>\n",
       "      <td>18</td>\n",
       "      <td>Volleyball</td>\n",
       "      <td>Sports</td>\n",
       "      <td>42.80</td>\n",
       "    </tr>\n",
       "    <tr>\n",
       "      <th>18</th>\n",
       "      <td>19</td>\n",
       "      <td>Hockey Stick</td>\n",
       "      <td>Sports</td>\n",
       "      <td>173.83</td>\n",
       "    </tr>\n",
       "    <tr>\n",
       "      <th>19</th>\n",
       "      <td>20</td>\n",
       "      <td>Boxing Gloves</td>\n",
       "      <td>Sports</td>\n",
       "      <td>262.32</td>\n",
       "    </tr>\n",
       "  </tbody>\n",
       "</table>\n",
       "</div>"
      ],
      "text/plain": [
       "    ProductID      ProductName Category   Price\n",
       "0           1    Running Shoes   Sports  223.75\n",
       "1           2  Fitness Tracker   Sports  196.68\n",
       "2           3         Yoga Mat   Sports  485.32\n",
       "3           4        Dumbbells   Sports   26.21\n",
       "4           5      Soccer Ball   Sports   41.26\n",
       "5           6    Tennis Racket   Sports   36.07\n",
       "6           7       Basketball   Sports  225.12\n",
       "7           8  Football Helmet   Sports   44.75\n",
       "8           9   Baseball Glove   Sports  327.36\n",
       "9          10       Golf Clubs   Sports   81.59\n",
       "10         11        Ski Boots   Sports  340.20\n",
       "11         12       Ice Skates   Sports   37.56\n",
       "12         13     Swim Goggles   Sports  145.97\n",
       "13         14   Cycling Helmet   Sports  472.32\n",
       "14         15    Climbing Rope   Sports  410.17\n",
       "15         16            Kayak   Sports  259.40\n",
       "16         17        Surfboard   Sports  275.43\n",
       "17         18       Volleyball   Sports   42.80\n",
       "18         19     Hockey Stick   Sports  173.83\n",
       "19         20    Boxing Gloves   Sports  262.32"
      ]
     },
     "execution_count": 39,
     "metadata": {},
     "output_type": "execute_result"
    }
   ],
   "source": [
    "df_Products "
   ]
  },
  {
   "cell_type": "code",
   "execution_count": 40,
   "id": "ff3af748-d991-41d3-8244-39a8cecaa482",
   "metadata": {},
   "outputs": [
    {
     "data": {
      "text/plain": [
       "0"
      ]
     },
     "execution_count": 40,
     "metadata": {},
     "output_type": "execute_result"
    }
   ],
   "source": [
    "df_Products.duplicated().sum()"
   ]
  },
  {
   "cell_type": "code",
   "execution_count": 41,
   "id": "b7582166-dbf7-4701-803e-49edbab79873",
   "metadata": {},
   "outputs": [],
   "source": [
    "df_Products.dropna(inplace=True)"
   ]
  },
  {
   "cell_type": "code",
   "execution_count": 42,
   "id": "3cff592d-6271-4439-8a43-949d7b633638",
   "metadata": {},
   "outputs": [
    {
     "data": {
      "text/plain": [
       "ProductID      0\n",
       "ProductName    0\n",
       "Category       0\n",
       "Price          0\n",
       "dtype: int64"
      ]
     },
     "execution_count": 42,
     "metadata": {},
     "output_type": "execute_result"
    }
   ],
   "source": [
    "df_Products.isnull().sum()"
   ]
  },
  {
   "cell_type": "code",
   "execution_count": 43,
   "id": "58a50a8f-a8d7-4b83-9161-bae3184e122e",
   "metadata": {},
   "outputs": [
    {
     "name": "stdout",
     "output_type": "stream",
     "text": [
      "<class 'pandas.core.frame.DataFrame'>\n",
      "RangeIndex: 20 entries, 0 to 19\n",
      "Data columns (total 4 columns):\n",
      " #   Column       Non-Null Count  Dtype  \n",
      "---  ------       --------------  -----  \n",
      " 0   ProductID    20 non-null     int64  \n",
      " 1   ProductName  20 non-null     object \n",
      " 2   Category     20 non-null     object \n",
      " 3   Price        20 non-null     float64\n",
      "dtypes: float64(1), int64(1), object(2)\n",
      "memory usage: 772.0+ bytes\n"
     ]
    }
   ],
   "source": [
    "df_Products.info()"
   ]
  },
  {
   "cell_type": "code",
   "execution_count": 44,
   "id": "e3cf77a8-1436-4050-8598-67981e64ac9a",
   "metadata": {},
   "outputs": [],
   "source": [
    "df_Products['Price'] = pd.to_numeric(df_Products['Price'], errors='coerce')\n"
   ]
  },
  {
   "cell_type": "code",
   "execution_count": 45,
   "id": "2ec6b92e-1b80-4073-873f-d6467f5de052",
   "metadata": {},
   "outputs": [
    {
     "name": "stdout",
     "output_type": "stream",
     "text": [
      "<class 'pandas.core.frame.DataFrame'>\n",
      "RangeIndex: 20 entries, 0 to 19\n",
      "Data columns (total 4 columns):\n",
      " #   Column       Non-Null Count  Dtype  \n",
      "---  ------       --------------  -----  \n",
      " 0   ProductID    20 non-null     int64  \n",
      " 1   ProductName  20 non-null     object \n",
      " 2   Category     20 non-null     object \n",
      " 3   Price        20 non-null     float64\n",
      "dtypes: float64(1), int64(1), object(2)\n",
      "memory usage: 772.0+ bytes\n"
     ]
    }
   ],
   "source": [
    "df_Products.info()"
   ]
  },
  {
   "cell_type": "markdown",
   "id": "a09aefca-bd12-4191-9a8d-0ca8ef456723",
   "metadata": {},
   "source": [
    "# Geography"
   ]
  },
  {
   "cell_type": "code",
   "execution_count": 46,
   "id": "bfa4a09c-dedb-4654-ad52-39a87d12929a",
   "metadata": {},
   "outputs": [],
   "source": [
    "df_Geography= pd.read_csv(\"Geography.csv\")"
   ]
  },
  {
   "cell_type": "code",
   "execution_count": 47,
   "id": "3bbb8d5c-4a84-48ab-a2b7-7e133fcb3eca",
   "metadata": {},
   "outputs": [
    {
     "data": {
      "text/html": [
       "<div>\n",
       "<style scoped>\n",
       "    .dataframe tbody tr th:only-of-type {\n",
       "        vertical-align: middle;\n",
       "    }\n",
       "\n",
       "    .dataframe tbody tr th {\n",
       "        vertical-align: top;\n",
       "    }\n",
       "\n",
       "    .dataframe thead th {\n",
       "        text-align: right;\n",
       "    }\n",
       "</style>\n",
       "<table border=\"1\" class=\"dataframe\">\n",
       "  <thead>\n",
       "    <tr style=\"text-align: right;\">\n",
       "      <th></th>\n",
       "      <th>GeographyID</th>\n",
       "      <th>Country</th>\n",
       "      <th>City</th>\n",
       "    </tr>\n",
       "  </thead>\n",
       "  <tbody>\n",
       "    <tr>\n",
       "      <th>0</th>\n",
       "      <td>1</td>\n",
       "      <td>UK</td>\n",
       "      <td>London</td>\n",
       "    </tr>\n",
       "    <tr>\n",
       "      <th>1</th>\n",
       "      <td>2</td>\n",
       "      <td>Germany</td>\n",
       "      <td>Berlin</td>\n",
       "    </tr>\n",
       "    <tr>\n",
       "      <th>2</th>\n",
       "      <td>3</td>\n",
       "      <td>France</td>\n",
       "      <td>Paris</td>\n",
       "    </tr>\n",
       "    <tr>\n",
       "      <th>3</th>\n",
       "      <td>4</td>\n",
       "      <td>Spain</td>\n",
       "      <td>Madrid</td>\n",
       "    </tr>\n",
       "    <tr>\n",
       "      <th>4</th>\n",
       "      <td>5</td>\n",
       "      <td>Italy</td>\n",
       "      <td>Rome</td>\n",
       "    </tr>\n",
       "    <tr>\n",
       "      <th>5</th>\n",
       "      <td>6</td>\n",
       "      <td>Netherlands</td>\n",
       "      <td>Amsterdam</td>\n",
       "    </tr>\n",
       "    <tr>\n",
       "      <th>6</th>\n",
       "      <td>7</td>\n",
       "      <td>Belgium</td>\n",
       "      <td>Brussels</td>\n",
       "    </tr>\n",
       "    <tr>\n",
       "      <th>7</th>\n",
       "      <td>8</td>\n",
       "      <td>Sweden</td>\n",
       "      <td>Stockholm</td>\n",
       "    </tr>\n",
       "    <tr>\n",
       "      <th>8</th>\n",
       "      <td>9</td>\n",
       "      <td>Switzerland</td>\n",
       "      <td>Zurich</td>\n",
       "    </tr>\n",
       "    <tr>\n",
       "      <th>9</th>\n",
       "      <td>10</td>\n",
       "      <td>Austria</td>\n",
       "      <td>Vienna</td>\n",
       "    </tr>\n",
       "  </tbody>\n",
       "</table>\n",
       "</div>"
      ],
      "text/plain": [
       "   GeographyID      Country       City\n",
       "0            1           UK     London\n",
       "1            2      Germany     Berlin\n",
       "2            3       France      Paris\n",
       "3            4        Spain     Madrid\n",
       "4            5        Italy       Rome\n",
       "5            6  Netherlands  Amsterdam\n",
       "6            7      Belgium   Brussels\n",
       "7            8       Sweden  Stockholm\n",
       "8            9  Switzerland     Zurich\n",
       "9           10      Austria     Vienna"
      ]
     },
     "execution_count": 47,
     "metadata": {},
     "output_type": "execute_result"
    }
   ],
   "source": [
    "df_Geography"
   ]
  },
  {
   "cell_type": "code",
   "execution_count": 49,
   "id": "50ed19f5-b054-457a-9216-2c207491f5b5",
   "metadata": {},
   "outputs": [
    {
     "data": {
      "text/plain": [
       "0"
      ]
     },
     "execution_count": 49,
     "metadata": {},
     "output_type": "execute_result"
    }
   ],
   "source": [
    "df_Geography.duplicated().sum()"
   ]
  },
  {
   "cell_type": "code",
   "execution_count": 50,
   "id": "39f04d7a-fa38-45b3-ad16-e0b650cbb19b",
   "metadata": {},
   "outputs": [
    {
     "data": {
      "text/plain": [
       "GeographyID    0\n",
       "Country        0\n",
       "City           0\n",
       "dtype: int64"
      ]
     },
     "execution_count": 50,
     "metadata": {},
     "output_type": "execute_result"
    }
   ],
   "source": [
    "df_Geography.isnull().sum()"
   ]
  },
  {
   "cell_type": "code",
   "execution_count": 51,
   "id": "6fc4b63b-77f2-4f89-bf2d-a08a6cb17012",
   "metadata": {},
   "outputs": [
    {
     "name": "stdout",
     "output_type": "stream",
     "text": [
      "<class 'pandas.core.frame.DataFrame'>\n",
      "RangeIndex: 10 entries, 0 to 9\n",
      "Data columns (total 3 columns):\n",
      " #   Column       Non-Null Count  Dtype \n",
      "---  ------       --------------  ----- \n",
      " 0   GeographyID  10 non-null     int64 \n",
      " 1   Country      10 non-null     object\n",
      " 2   City         10 non-null     object\n",
      "dtypes: int64(1), object(2)\n",
      "memory usage: 372.0+ bytes\n"
     ]
    }
   ],
   "source": [
    "df_Geography.info()"
   ]
  },
  {
   "cell_type": "markdown",
   "id": "93fbbc01-8a8b-4c99-9f61-aafdfd6610bf",
   "metadata": {},
   "source": [
    "# Engagement_data"
   ]
  },
  {
   "cell_type": "code",
   "execution_count": 52,
   "id": "30aec690-82fc-4bac-ac46-2b10cd3dba60",
   "metadata": {},
   "outputs": [],
   "source": [
    "df_Engagement_data= pd.read_csv(\"Engagement_data.csv\")"
   ]
  },
  {
   "cell_type": "code",
   "execution_count": 53,
   "id": "0c05c89c-d1b0-449e-8afe-ae494d856800",
   "metadata": {},
   "outputs": [
    {
     "data": {
      "text/html": [
       "<div>\n",
       "<style scoped>\n",
       "    .dataframe tbody tr th:only-of-type {\n",
       "        vertical-align: middle;\n",
       "    }\n",
       "\n",
       "    .dataframe tbody tr th {\n",
       "        vertical-align: top;\n",
       "    }\n",
       "\n",
       "    .dataframe thead th {\n",
       "        text-align: right;\n",
       "    }\n",
       "</style>\n",
       "<table border=\"1\" class=\"dataframe\">\n",
       "  <thead>\n",
       "    <tr style=\"text-align: right;\">\n",
       "      <th></th>\n",
       "      <th>EngagementID</th>\n",
       "      <th>ContentID</th>\n",
       "      <th>ContentType</th>\n",
       "      <th>Likes</th>\n",
       "      <th>EngagementDate</th>\n",
       "      <th>CampaignID</th>\n",
       "      <th>ProductID</th>\n",
       "      <th>View</th>\n",
       "      <th>Clicks</th>\n",
       "    </tr>\n",
       "  </thead>\n",
       "  <tbody>\n",
       "    <tr>\n",
       "      <th>0</th>\n",
       "      <td>1</td>\n",
       "      <td>39</td>\n",
       "      <td>Blog</td>\n",
       "      <td>190</td>\n",
       "      <td>2023-08-30</td>\n",
       "      <td>1</td>\n",
       "      <td>9</td>\n",
       "      <td>1883</td>\n",
       "      <td>671</td>\n",
       "    </tr>\n",
       "    <tr>\n",
       "      <th>1</th>\n",
       "      <td>2</td>\n",
       "      <td>48</td>\n",
       "      <td>Blog</td>\n",
       "      <td>114</td>\n",
       "      <td>2023-03-28</td>\n",
       "      <td>18</td>\n",
       "      <td>20</td>\n",
       "      <td>5280</td>\n",
       "      <td>532</td>\n",
       "    </tr>\n",
       "    <tr>\n",
       "      <th>2</th>\n",
       "      <td>3</td>\n",
       "      <td>16</td>\n",
       "      <td>video</td>\n",
       "      <td>32</td>\n",
       "      <td>2023-12-08</td>\n",
       "      <td>7</td>\n",
       "      <td>14</td>\n",
       "      <td>1905</td>\n",
       "      <td>204</td>\n",
       "    </tr>\n",
       "    <tr>\n",
       "      <th>3</th>\n",
       "      <td>4</td>\n",
       "      <td>43</td>\n",
       "      <td>Video</td>\n",
       "      <td>17</td>\n",
       "      <td>2025-01-21</td>\n",
       "      <td>19</td>\n",
       "      <td>20</td>\n",
       "      <td>2766</td>\n",
       "      <td>257</td>\n",
       "    </tr>\n",
       "    <tr>\n",
       "      <th>4</th>\n",
       "      <td>5</td>\n",
       "      <td>16</td>\n",
       "      <td>newsletter</td>\n",
       "      <td>306</td>\n",
       "      <td>2024-02-21</td>\n",
       "      <td>6</td>\n",
       "      <td>15</td>\n",
       "      <td>5116</td>\n",
       "      <td>1524</td>\n",
       "    </tr>\n",
       "    <tr>\n",
       "      <th>...</th>\n",
       "      <td>...</td>\n",
       "      <td>...</td>\n",
       "      <td>...</td>\n",
       "      <td>...</td>\n",
       "      <td>...</td>\n",
       "      <td>...</td>\n",
       "      <td>...</td>\n",
       "      <td>...</td>\n",
       "      <td>...</td>\n",
       "    </tr>\n",
       "    <tr>\n",
       "      <th>95</th>\n",
       "      <td>96</td>\n",
       "      <td>17</td>\n",
       "      <td>Blog</td>\n",
       "      <td>32</td>\n",
       "      <td>2024-07-15</td>\n",
       "      <td>14</td>\n",
       "      <td>13</td>\n",
       "      <td>712</td>\n",
       "      <td>142</td>\n",
       "    </tr>\n",
       "    <tr>\n",
       "      <th>96</th>\n",
       "      <td>97</td>\n",
       "      <td>34</td>\n",
       "      <td>blog</td>\n",
       "      <td>3</td>\n",
       "      <td>2025-07-01</td>\n",
       "      <td>16</td>\n",
       "      <td>7</td>\n",
       "      <td>696</td>\n",
       "      <td>47</td>\n",
       "    </tr>\n",
       "    <tr>\n",
       "      <th>97</th>\n",
       "      <td>98</td>\n",
       "      <td>44</td>\n",
       "      <td>blog</td>\n",
       "      <td>0</td>\n",
       "      <td>2025-08-20</td>\n",
       "      <td>11</td>\n",
       "      <td>8</td>\n",
       "      <td>231</td>\n",
       "      <td>10</td>\n",
       "    </tr>\n",
       "    <tr>\n",
       "      <th>98</th>\n",
       "      <td>99</td>\n",
       "      <td>26</td>\n",
       "      <td>Blog</td>\n",
       "      <td>119</td>\n",
       "      <td>2024-04-15</td>\n",
       "      <td>17</td>\n",
       "      <td>4</td>\n",
       "      <td>3511</td>\n",
       "      <td>479</td>\n",
       "    </tr>\n",
       "    <tr>\n",
       "      <th>99</th>\n",
       "      <td>100</td>\n",
       "      <td>32</td>\n",
       "      <td>Video</td>\n",
       "      <td>34</td>\n",
       "      <td>2024-05-05</td>\n",
       "      <td>15</td>\n",
       "      <td>13</td>\n",
       "      <td>2657</td>\n",
       "      <td>175</td>\n",
       "    </tr>\n",
       "  </tbody>\n",
       "</table>\n",
       "<p>100 rows × 9 columns</p>\n",
       "</div>"
      ],
      "text/plain": [
       "    EngagementID  ContentID ContentType  Likes EngagementDate  CampaignID  \\\n",
       "0              1         39        Blog    190     2023-08-30           1   \n",
       "1              2         48        Blog    114     2023-03-28          18   \n",
       "2              3         16       video     32     2023-12-08           7   \n",
       "3              4         43       Video     17     2025-01-21          19   \n",
       "4              5         16  newsletter    306     2024-02-21           6   \n",
       "..           ...        ...         ...    ...            ...         ...   \n",
       "95            96         17        Blog     32     2024-07-15          14   \n",
       "96            97         34        blog      3     2025-07-01          16   \n",
       "97            98         44        blog      0     2025-08-20          11   \n",
       "98            99         26        Blog    119     2024-04-15          17   \n",
       "99           100         32       Video     34     2024-05-05          15   \n",
       "\n",
       "    ProductID  View  Clicks  \n",
       "0           9  1883     671  \n",
       "1          20  5280     532  \n",
       "2          14  1905     204  \n",
       "3          20  2766     257  \n",
       "4          15  5116    1524  \n",
       "..        ...   ...     ...  \n",
       "95         13   712     142  \n",
       "96          7   696      47  \n",
       "97          8   231      10  \n",
       "98          4  3511     479  \n",
       "99         13  2657     175  \n",
       "\n",
       "[100 rows x 9 columns]"
      ]
     },
     "execution_count": 53,
     "metadata": {},
     "output_type": "execute_result"
    }
   ],
   "source": [
    "df_Engagement_data"
   ]
  },
  {
   "cell_type": "code",
   "execution_count": 55,
   "id": "cf493907-fd83-4e5c-be23-cd0b73ac7e72",
   "metadata": {},
   "outputs": [
    {
     "data": {
      "text/plain": [
       "0"
      ]
     },
     "execution_count": 55,
     "metadata": {},
     "output_type": "execute_result"
    }
   ],
   "source": [
    "df_Engagement_data.duplicated().sum()\n"
   ]
  },
  {
   "cell_type": "code",
   "execution_count": 56,
   "id": "0b1a4401-ed34-43b8-a4e6-2e78b630ee69",
   "metadata": {},
   "outputs": [
    {
     "data": {
      "text/plain": [
       "EngagementID      0\n",
       "ContentID         0\n",
       "ContentType       0\n",
       "Likes             0\n",
       "EngagementDate    0\n",
       "CampaignID        0\n",
       "ProductID         0\n",
       "View              0\n",
       "Clicks            0\n",
       "dtype: int64"
      ]
     },
     "execution_count": 56,
     "metadata": {},
     "output_type": "execute_result"
    }
   ],
   "source": [
    "df_Engagement_data.isnull().sum()"
   ]
  },
  {
   "cell_type": "code",
   "execution_count": 57,
   "id": "0f3239e6-9a2b-47e2-ada2-24f2b249c377",
   "metadata": {},
   "outputs": [
    {
     "name": "stdout",
     "output_type": "stream",
     "text": [
      "<class 'pandas.core.frame.DataFrame'>\n",
      "RangeIndex: 100 entries, 0 to 99\n",
      "Data columns (total 9 columns):\n",
      " #   Column          Non-Null Count  Dtype \n",
      "---  ------          --------------  ----- \n",
      " 0   EngagementID    100 non-null    int64 \n",
      " 1   ContentID       100 non-null    int64 \n",
      " 2   ContentType     100 non-null    object\n",
      " 3   Likes           100 non-null    int64 \n",
      " 4   EngagementDate  100 non-null    object\n",
      " 5   CampaignID      100 non-null    int64 \n",
      " 6   ProductID       100 non-null    int64 \n",
      " 7   View            100 non-null    int64 \n",
      " 8   Clicks          100 non-null    int64 \n",
      "dtypes: int64(7), object(2)\n",
      "memory usage: 7.2+ KB\n"
     ]
    }
   ],
   "source": [
    "df_Engagement_data.info()"
   ]
  },
  {
   "cell_type": "code",
   "execution_count": 58,
   "id": "d175a1b5-df35-45b0-8d29-55afa21fa67d",
   "metadata": {},
   "outputs": [],
   "source": [
    "df_Engagement_data['EngagementDate'] = pd.to_datetime(df_Engagement_data['EngagementDate'])"
   ]
  },
  {
   "cell_type": "code",
   "execution_count": 59,
   "id": "b427ecc5-bc26-40f9-999a-209b1650663c",
   "metadata": {},
   "outputs": [
    {
     "name": "stdout",
     "output_type": "stream",
     "text": [
      "<class 'pandas.core.frame.DataFrame'>\n",
      "RangeIndex: 100 entries, 0 to 99\n",
      "Data columns (total 9 columns):\n",
      " #   Column          Non-Null Count  Dtype         \n",
      "---  ------          --------------  -----         \n",
      " 0   EngagementID    100 non-null    int64         \n",
      " 1   ContentID       100 non-null    int64         \n",
      " 2   ContentType     100 non-null    object        \n",
      " 3   Likes           100 non-null    int64         \n",
      " 4   EngagementDate  100 non-null    datetime64[ns]\n",
      " 5   CampaignID      100 non-null    int64         \n",
      " 6   ProductID       100 non-null    int64         \n",
      " 7   View            100 non-null    int64         \n",
      " 8   Clicks          100 non-null    int64         \n",
      "dtypes: datetime64[ns](1), int64(7), object(1)\n",
      "memory usage: 7.2+ KB\n"
     ]
    }
   ],
   "source": [
    "df_Engagement_data.info()"
   ]
  },
  {
   "cell_type": "markdown",
   "id": "b4429616-3c15-4ac2-846b-e8d6b56fc466",
   "metadata": {},
   "source": [
    "# Customers"
   ]
  },
  {
   "cell_type": "code",
   "execution_count": 60,
   "id": "cee08608-356e-4d0c-b875-12223fc813d8",
   "metadata": {},
   "outputs": [],
   "source": [
    "df_customers= pd.read_csv(\"customers.csv\")"
   ]
  },
  {
   "cell_type": "code",
   "execution_count": 61,
   "id": "51a37378-e1e9-4a9d-bb5d-03ceabebd33e",
   "metadata": {},
   "outputs": [
    {
     "data": {
      "text/html": [
       "<div>\n",
       "<style scoped>\n",
       "    .dataframe tbody tr th:only-of-type {\n",
       "        vertical-align: middle;\n",
       "    }\n",
       "\n",
       "    .dataframe tbody tr th {\n",
       "        vertical-align: top;\n",
       "    }\n",
       "\n",
       "    .dataframe thead th {\n",
       "        text-align: right;\n",
       "    }\n",
       "</style>\n",
       "<table border=\"1\" class=\"dataframe\">\n",
       "  <thead>\n",
       "    <tr style=\"text-align: right;\">\n",
       "      <th></th>\n",
       "      <th>CustomerID</th>\n",
       "      <th>CustomerName</th>\n",
       "      <th>Email</th>\n",
       "      <th>Gender</th>\n",
       "      <th>Age</th>\n",
       "      <th>GeographyID</th>\n",
       "    </tr>\n",
       "  </thead>\n",
       "  <tbody>\n",
       "    <tr>\n",
       "      <th>0</th>\n",
       "      <td>1</td>\n",
       "      <td>Emma Anderson</td>\n",
       "      <td>emma.anderson@example.com</td>\n",
       "      <td>M</td>\n",
       "      <td>50</td>\n",
       "      <td>2</td>\n",
       "    </tr>\n",
       "    <tr>\n",
       "      <th>1</th>\n",
       "      <td>2</td>\n",
       "      <td>Sarah Brown</td>\n",
       "      <td>sarah.brown@example.com</td>\n",
       "      <td>F</td>\n",
       "      <td>37</td>\n",
       "      <td>4</td>\n",
       "    </tr>\n",
       "    <tr>\n",
       "      <th>2</th>\n",
       "      <td>3</td>\n",
       "      <td>Robert Hernandez</td>\n",
       "      <td>robert.hernandez@example.com</td>\n",
       "      <td>F</td>\n",
       "      <td>26</td>\n",
       "      <td>6</td>\n",
       "    </tr>\n",
       "    <tr>\n",
       "      <th>3</th>\n",
       "      <td>4</td>\n",
       "      <td>David Garcia</td>\n",
       "      <td>david.garcia@example.com</td>\n",
       "      <td>M</td>\n",
       "      <td>25</td>\n",
       "      <td>8</td>\n",
       "    </tr>\n",
       "    <tr>\n",
       "      <th>4</th>\n",
       "      <td>5</td>\n",
       "      <td>Emma Miller</td>\n",
       "      <td>emma.miller@example.com</td>\n",
       "      <td>F</td>\n",
       "      <td>41</td>\n",
       "      <td>4</td>\n",
       "    </tr>\n",
       "    <tr>\n",
       "      <th>...</th>\n",
       "      <td>...</td>\n",
       "      <td>...</td>\n",
       "      <td>...</td>\n",
       "      <td>...</td>\n",
       "      <td>...</td>\n",
       "      <td>...</td>\n",
       "    </tr>\n",
       "    <tr>\n",
       "      <th>95</th>\n",
       "      <td>96</td>\n",
       "      <td>Emily Gonzalez</td>\n",
       "      <td>emily.gonzalez@example.com</td>\n",
       "      <td>F</td>\n",
       "      <td>38</td>\n",
       "      <td>10</td>\n",
       "    </tr>\n",
       "    <tr>\n",
       "      <th>96</th>\n",
       "      <td>97</td>\n",
       "      <td>Emily Rodriguez</td>\n",
       "      <td>emily.rodriguez@example.com</td>\n",
       "      <td>F</td>\n",
       "      <td>51</td>\n",
       "      <td>3</td>\n",
       "    </tr>\n",
       "    <tr>\n",
       "      <th>97</th>\n",
       "      <td>98</td>\n",
       "      <td>Chris Lopez</td>\n",
       "      <td>chris.lopez@example.com</td>\n",
       "      <td>F</td>\n",
       "      <td>55</td>\n",
       "      <td>10</td>\n",
       "    </tr>\n",
       "    <tr>\n",
       "      <th>98</th>\n",
       "      <td>99</td>\n",
       "      <td>Laura Hernandez</td>\n",
       "      <td>laura.hernandez@example.com</td>\n",
       "      <td>M</td>\n",
       "      <td>41</td>\n",
       "      <td>5</td>\n",
       "    </tr>\n",
       "    <tr>\n",
       "      <th>99</th>\n",
       "      <td>100</td>\n",
       "      <td>Jane Brown</td>\n",
       "      <td>jane.brown@example.com</td>\n",
       "      <td>F</td>\n",
       "      <td>45</td>\n",
       "      <td>10</td>\n",
       "    </tr>\n",
       "  </tbody>\n",
       "</table>\n",
       "<p>100 rows × 6 columns</p>\n",
       "</div>"
      ],
      "text/plain": [
       "    CustomerID      CustomerName                         Email Gender  Age  \\\n",
       "0            1     Emma Anderson     emma.anderson@example.com      M   50   \n",
       "1            2       Sarah Brown       sarah.brown@example.com      F   37   \n",
       "2            3  Robert Hernandez  robert.hernandez@example.com      F   26   \n",
       "3            4      David Garcia      david.garcia@example.com      M   25   \n",
       "4            5       Emma Miller       emma.miller@example.com      F   41   \n",
       "..         ...               ...                           ...    ...  ...   \n",
       "95          96    Emily Gonzalez    emily.gonzalez@example.com      F   38   \n",
       "96          97   Emily Rodriguez   emily.rodriguez@example.com      F   51   \n",
       "97          98       Chris Lopez       chris.lopez@example.com      F   55   \n",
       "98          99   Laura Hernandez   laura.hernandez@example.com      M   41   \n",
       "99         100        Jane Brown        jane.brown@example.com      F   45   \n",
       "\n",
       "    GeographyID  \n",
       "0             2  \n",
       "1             4  \n",
       "2             6  \n",
       "3             8  \n",
       "4             4  \n",
       "..          ...  \n",
       "95           10  \n",
       "96            3  \n",
       "97           10  \n",
       "98            5  \n",
       "99           10  \n",
       "\n",
       "[100 rows x 6 columns]"
      ]
     },
     "execution_count": 61,
     "metadata": {},
     "output_type": "execute_result"
    }
   ],
   "source": [
    "df_customers"
   ]
  },
  {
   "cell_type": "code",
   "execution_count": 62,
   "id": "2de41c7b-dc1c-4093-a38b-fde3cc1051c4",
   "metadata": {},
   "outputs": [
    {
     "data": {
      "text/plain": [
       "0"
      ]
     },
     "execution_count": 62,
     "metadata": {},
     "output_type": "execute_result"
    }
   ],
   "source": [
    "df_customers.duplicated().sum()\n"
   ]
  },
  {
   "cell_type": "code",
   "execution_count": 63,
   "id": "b9fbaf5d-6d8b-486c-952e-9ee93e17c058",
   "metadata": {},
   "outputs": [
    {
     "data": {
      "text/plain": [
       "CustomerID      0\n",
       "CustomerName    0\n",
       "Email           0\n",
       "Gender          0\n",
       "Age             0\n",
       "GeographyID     0\n",
       "dtype: int64"
      ]
     },
     "execution_count": 63,
     "metadata": {},
     "output_type": "execute_result"
    }
   ],
   "source": [
    "df_customers.isnull().sum()"
   ]
  },
  {
   "cell_type": "code",
   "execution_count": 64,
   "id": "ed85975b-e9cc-4e7d-93d9-957235f06d25",
   "metadata": {},
   "outputs": [
    {
     "name": "stdout",
     "output_type": "stream",
     "text": [
      "<class 'pandas.core.frame.DataFrame'>\n",
      "RangeIndex: 100 entries, 0 to 99\n",
      "Data columns (total 6 columns):\n",
      " #   Column        Non-Null Count  Dtype \n",
      "---  ------        --------------  ----- \n",
      " 0   CustomerID    100 non-null    int64 \n",
      " 1   CustomerName  100 non-null    object\n",
      " 2   Email         100 non-null    object\n",
      " 3   Gender        100 non-null    object\n",
      " 4   Age           100 non-null    int64 \n",
      " 5   GeographyID   100 non-null    int64 \n",
      "dtypes: int64(3), object(3)\n",
      "memory usage: 4.8+ KB\n"
     ]
    }
   ],
   "source": [
    "df_customers.info()"
   ]
  },
  {
   "cell_type": "code",
   "execution_count": 65,
   "id": "3b868e3d-8c95-46ea-bd40-59060c8890d1",
   "metadata": {},
   "outputs": [],
   "source": [
    "df_customers[\"Gender\"] = df_customers[\"Gender\"].replace({\"Male\": \"M\", \"Female\": \"F\"})\n",
    "df_customers[\"Email\"] = df_customers[\"Email\"].str.lower().str.strip()"
   ]
  },
  {
   "cell_type": "code",
   "execution_count": 66,
   "id": "befacbde-a426-4f91-a210-9259f834cbcc",
   "metadata": {},
   "outputs": [],
   "source": [
    "df_customers['GeographyID'] = df_customers['GeographyID'].fillna(-1)"
   ]
  },
  {
   "cell_type": "code",
   "execution_count": 67,
   "id": "45e19144-7b92-46b2-8f80-66d4b2102588",
   "metadata": {},
   "outputs": [],
   "source": [
    "df_customers.dropna(inplace= True)"
   ]
  },
  {
   "cell_type": "code",
   "execution_count": 68,
   "id": "32eb41e4-eda5-4e8e-b947-d31d0ed337f8",
   "metadata": {},
   "outputs": [
    {
     "data": {
      "text/plain": [
       "CustomerID      0\n",
       "CustomerName    0\n",
       "Email           0\n",
       "Gender          0\n",
       "Age             0\n",
       "GeographyID     0\n",
       "dtype: int64"
      ]
     },
     "execution_count": 68,
     "metadata": {},
     "output_type": "execute_result"
    }
   ],
   "source": [
    "df_customers.isnull().sum()"
   ]
  },
  {
   "cell_type": "code",
   "execution_count": 69,
   "id": "7ee3eebb-e013-4ae5-830a-4eccceb231a0",
   "metadata": {},
   "outputs": [
    {
     "name": "stdout",
     "output_type": "stream",
     "text": [
      "<class 'pandas.core.frame.DataFrame'>\n",
      "RangeIndex: 100 entries, 0 to 99\n",
      "Data columns (total 6 columns):\n",
      " #   Column        Non-Null Count  Dtype \n",
      "---  ------        --------------  ----- \n",
      " 0   CustomerID    100 non-null    int64 \n",
      " 1   CustomerName  100 non-null    object\n",
      " 2   Email         100 non-null    object\n",
      " 3   Gender        100 non-null    object\n",
      " 4   Age           100 non-null    int64 \n",
      " 5   GeographyID   100 non-null    int64 \n",
      "dtypes: int64(3), object(3)\n",
      "memory usage: 4.8+ KB\n"
     ]
    }
   ],
   "source": [
    "df_customers.info()"
   ]
  },
  {
   "cell_type": "markdown",
   "id": "1146b3c5-b30c-43c6-b979-7b6f7906c648",
   "metadata": {},
   "source": [
    "# Customer_reviews"
   ]
  },
  {
   "cell_type": "code",
   "execution_count": 70,
   "id": "f1d1a1aa-6c8f-4f81-a5c1-3d8d269240d2",
   "metadata": {},
   "outputs": [],
   "source": [
    "df_customer_reviews= pd.read_csv(\"customer_reviews.csv\")"
   ]
  },
  {
   "cell_type": "code",
   "execution_count": 71,
   "id": "cc62e843-b128-4af2-b47d-02c632bef0f5",
   "metadata": {},
   "outputs": [
    {
     "data": {
      "text/html": [
       "<div>\n",
       "<style scoped>\n",
       "    .dataframe tbody tr th:only-of-type {\n",
       "        vertical-align: middle;\n",
       "    }\n",
       "\n",
       "    .dataframe tbody tr th {\n",
       "        vertical-align: top;\n",
       "    }\n",
       "\n",
       "    .dataframe thead th {\n",
       "        text-align: right;\n",
       "    }\n",
       "</style>\n",
       "<table border=\"1\" class=\"dataframe\">\n",
       "  <thead>\n",
       "    <tr style=\"text-align: right;\">\n",
       "      <th></th>\n",
       "      <th>ReviewID</th>\n",
       "      <th>CustomerID</th>\n",
       "      <th>ProductID</th>\n",
       "      <th>ReviewDate</th>\n",
       "      <th>Rating</th>\n",
       "      <th>ReviewText</th>\n",
       "    </tr>\n",
       "  </thead>\n",
       "  <tbody>\n",
       "    <tr>\n",
       "      <th>0</th>\n",
       "      <td>1</td>\n",
       "      <td>77</td>\n",
       "      <td>18</td>\n",
       "      <td>2023-12-23</td>\n",
       "      <td>3</td>\n",
       "      <td>Average  experience,  nothing  special.</td>\n",
       "    </tr>\n",
       "    <tr>\n",
       "      <th>1</th>\n",
       "      <td>2</td>\n",
       "      <td>80</td>\n",
       "      <td>19</td>\n",
       "      <td>2024-12-25</td>\n",
       "      <td>5</td>\n",
       "      <td>The  quality  is    top-notch.</td>\n",
       "    </tr>\n",
       "    <tr>\n",
       "      <th>2</th>\n",
       "      <td>3</td>\n",
       "      <td>50</td>\n",
       "      <td>13</td>\n",
       "      <td>2025-01-26</td>\n",
       "      <td>4</td>\n",
       "      <td>Five  stars  for  the  quick  delivery.</td>\n",
       "    </tr>\n",
       "    <tr>\n",
       "      <th>3</th>\n",
       "      <td>4</td>\n",
       "      <td>78</td>\n",
       "      <td>15</td>\n",
       "      <td>2025-04-21</td>\n",
       "      <td>3</td>\n",
       "      <td>Good  quality,  but  could  be  cheaper.</td>\n",
       "    </tr>\n",
       "    <tr>\n",
       "      <th>4</th>\n",
       "      <td>5</td>\n",
       "      <td>64</td>\n",
       "      <td>2</td>\n",
       "      <td>2023-07-16</td>\n",
       "      <td>3</td>\n",
       "      <td>Average  experience,  nothing  special.</td>\n",
       "    </tr>\n",
       "    <tr>\n",
       "      <th>...</th>\n",
       "      <td>...</td>\n",
       "      <td>...</td>\n",
       "      <td>...</td>\n",
       "      <td>...</td>\n",
       "      <td>...</td>\n",
       "      <td>...</td>\n",
       "    </tr>\n",
       "    <tr>\n",
       "      <th>95</th>\n",
       "      <td>96</td>\n",
       "      <td>19</td>\n",
       "      <td>13</td>\n",
       "      <td>2023-09-02</td>\n",
       "      <td>3</td>\n",
       "      <td>Good  quality,  but  could  be  cheaper.</td>\n",
       "    </tr>\n",
       "    <tr>\n",
       "      <th>96</th>\n",
       "      <td>97</td>\n",
       "      <td>64</td>\n",
       "      <td>6</td>\n",
       "      <td>2024-01-19</td>\n",
       "      <td>3</td>\n",
       "      <td>The  product  is  okay,  but  the  instruction...</td>\n",
       "    </tr>\n",
       "    <tr>\n",
       "      <th>97</th>\n",
       "      <td>98</td>\n",
       "      <td>96</td>\n",
       "      <td>3</td>\n",
       "      <td>2025-11-20</td>\n",
       "      <td>5</td>\n",
       "      <td>Exceeded  my  expectations!</td>\n",
       "    </tr>\n",
       "    <tr>\n",
       "      <th>98</th>\n",
       "      <td>99</td>\n",
       "      <td>79</td>\n",
       "      <td>16</td>\n",
       "      <td>2025-01-29</td>\n",
       "      <td>2</td>\n",
       "      <td>Average  experience,  nothing  special.</td>\n",
       "    </tr>\n",
       "    <tr>\n",
       "      <th>99</th>\n",
       "      <td>100</td>\n",
       "      <td>9</td>\n",
       "      <td>2</td>\n",
       "      <td>2025-06-20</td>\n",
       "      <td>3</td>\n",
       "      <td>Not  worth  the  money.</td>\n",
       "    </tr>\n",
       "  </tbody>\n",
       "</table>\n",
       "<p>100 rows × 6 columns</p>\n",
       "</div>"
      ],
      "text/plain": [
       "    ReviewID  CustomerID  ProductID  ReviewDate  Rating  \\\n",
       "0          1          77         18  2023-12-23       3   \n",
       "1          2          80         19  2024-12-25       5   \n",
       "2          3          50         13  2025-01-26       4   \n",
       "3          4          78         15  2025-04-21       3   \n",
       "4          5          64          2  2023-07-16       3   \n",
       "..       ...         ...        ...         ...     ...   \n",
       "95        96          19         13  2023-09-02       3   \n",
       "96        97          64          6  2024-01-19       3   \n",
       "97        98          96          3  2025-11-20       5   \n",
       "98        99          79         16  2025-01-29       2   \n",
       "99       100           9          2  2025-06-20       3   \n",
       "\n",
       "                                           ReviewText  \n",
       "0             Average  experience,  nothing  special.  \n",
       "1                      The  quality  is    top-notch.  \n",
       "2             Five  stars  for  the  quick  delivery.  \n",
       "3            Good  quality,  but  could  be  cheaper.  \n",
       "4             Average  experience,  nothing  special.  \n",
       "..                                                ...  \n",
       "95           Good  quality,  but  could  be  cheaper.  \n",
       "96  The  product  is  okay,  but  the  instruction...  \n",
       "97                        Exceeded  my  expectations!  \n",
       "98            Average  experience,  nothing  special.  \n",
       "99                            Not  worth  the  money.  \n",
       "\n",
       "[100 rows x 6 columns]"
      ]
     },
     "execution_count": 71,
     "metadata": {},
     "output_type": "execute_result"
    }
   ],
   "source": [
    "df_customer_reviews"
   ]
  },
  {
   "cell_type": "code",
   "execution_count": 73,
   "id": "aebbb1b7-a65e-4321-a0e1-643e737351b9",
   "metadata": {},
   "outputs": [
    {
     "data": {
      "text/plain": [
       "0"
      ]
     },
     "execution_count": 73,
     "metadata": {},
     "output_type": "execute_result"
    }
   ],
   "source": [
    "df_customer_reviews.duplicated().sum()\n"
   ]
  },
  {
   "cell_type": "code",
   "execution_count": 74,
   "id": "ddea685e-1736-439d-b09c-b55bd0f59cef",
   "metadata": {},
   "outputs": [
    {
     "data": {
      "text/plain": [
       "ReviewID      0\n",
       "CustomerID    0\n",
       "ProductID     0\n",
       "ReviewDate    0\n",
       "Rating        0\n",
       "ReviewText    0\n",
       "dtype: int64"
      ]
     },
     "execution_count": 74,
     "metadata": {},
     "output_type": "execute_result"
    }
   ],
   "source": [
    "df_customer_reviews.isnull().sum()"
   ]
  },
  {
   "cell_type": "code",
   "execution_count": 75,
   "id": "dab573cc-4cf1-4493-ac1d-8153fd0bf5b1",
   "metadata": {},
   "outputs": [
    {
     "name": "stdout",
     "output_type": "stream",
     "text": [
      "<class 'pandas.core.frame.DataFrame'>\n",
      "RangeIndex: 100 entries, 0 to 99\n",
      "Data columns (total 6 columns):\n",
      " #   Column      Non-Null Count  Dtype \n",
      "---  ------      --------------  ----- \n",
      " 0   ReviewID    100 non-null    int64 \n",
      " 1   CustomerID  100 non-null    int64 \n",
      " 2   ProductID   100 non-null    int64 \n",
      " 3   ReviewDate  100 non-null    object\n",
      " 4   Rating      100 non-null    int64 \n",
      " 5   ReviewText  100 non-null    object\n",
      "dtypes: int64(4), object(2)\n",
      "memory usage: 4.8+ KB\n"
     ]
    }
   ],
   "source": [
    "df_customer_reviews.info()"
   ]
  },
  {
   "cell_type": "code",
   "execution_count": 76,
   "id": "4300a3ec-f5a9-4c64-b793-5eabfa696d7d",
   "metadata": {},
   "outputs": [],
   "source": [
    "df_customer_reviews['ReviewDate'] = pd.to_datetime(df_customer_reviews['ReviewDate'])"
   ]
  },
  {
   "cell_type": "code",
   "execution_count": 77,
   "id": "2e117f29-9dca-4942-aefe-93d4eaf61386",
   "metadata": {},
   "outputs": [
    {
     "name": "stdout",
     "output_type": "stream",
     "text": [
      "<class 'pandas.core.frame.DataFrame'>\n",
      "RangeIndex: 100 entries, 0 to 99\n",
      "Data columns (total 6 columns):\n",
      " #   Column      Non-Null Count  Dtype         \n",
      "---  ------      --------------  -----         \n",
      " 0   ReviewID    100 non-null    int64         \n",
      " 1   CustomerID  100 non-null    int64         \n",
      " 2   ProductID   100 non-null    int64         \n",
      " 3   ReviewDate  100 non-null    datetime64[ns]\n",
      " 4   Rating      100 non-null    int64         \n",
      " 5   ReviewText  100 non-null    object        \n",
      "dtypes: datetime64[ns](1), int64(4), object(1)\n",
      "memory usage: 4.8+ KB\n"
     ]
    }
   ],
   "source": [
    "df_customer_reviews.info()"
   ]
  },
  {
   "cell_type": "markdown",
   "id": "cfd1bc03-c8c6-483d-acdb-0defe000ecf1",
   "metadata": {},
   "source": [
    "# Customer_journey"
   ]
  },
  {
   "cell_type": "code",
   "execution_count": 78,
   "id": "df546099-1bff-4edd-a4bd-3c58c2266be5",
   "metadata": {},
   "outputs": [],
   "source": [
    "df_customer_journey= pd.read_csv(\"customer_journey.csv\")"
   ]
  },
  {
   "cell_type": "code",
   "execution_count": 79,
   "id": "cc3520fb-aa36-44d8-9ca5-814c20a48590",
   "metadata": {},
   "outputs": [
    {
     "data": {
      "text/html": [
       "<div>\n",
       "<style scoped>\n",
       "    .dataframe tbody tr th:only-of-type {\n",
       "        vertical-align: middle;\n",
       "    }\n",
       "\n",
       "    .dataframe tbody tr th {\n",
       "        vertical-align: top;\n",
       "    }\n",
       "\n",
       "    .dataframe thead th {\n",
       "        text-align: right;\n",
       "    }\n",
       "</style>\n",
       "<table border=\"1\" class=\"dataframe\">\n",
       "  <thead>\n",
       "    <tr style=\"text-align: right;\">\n",
       "      <th></th>\n",
       "      <th>JourneyID</th>\n",
       "      <th>CustomerID</th>\n",
       "      <th>ProductID</th>\n",
       "      <th>VisitDate</th>\n",
       "      <th>Stage</th>\n",
       "      <th>Action</th>\n",
       "      <th>Duration</th>\n",
       "    </tr>\n",
       "  </thead>\n",
       "  <tbody>\n",
       "    <tr>\n",
       "      <th>0</th>\n",
       "      <td>1</td>\n",
       "      <td>64</td>\n",
       "      <td>18</td>\n",
       "      <td>2024-06-10</td>\n",
       "      <td>Checkout</td>\n",
       "      <td>Drop-off</td>\n",
       "      <td>0.0</td>\n",
       "    </tr>\n",
       "    <tr>\n",
       "      <th>1</th>\n",
       "      <td>2</td>\n",
       "      <td>94</td>\n",
       "      <td>11</td>\n",
       "      <td>2025-07-09</td>\n",
       "      <td>Checkout</td>\n",
       "      <td>Drop-off</td>\n",
       "      <td>0.0</td>\n",
       "    </tr>\n",
       "    <tr>\n",
       "      <th>2</th>\n",
       "      <td>3</td>\n",
       "      <td>34</td>\n",
       "      <td>8</td>\n",
       "      <td>2024-06-14</td>\n",
       "      <td>ProductPage</td>\n",
       "      <td>View</td>\n",
       "      <td>235.0</td>\n",
       "    </tr>\n",
       "    <tr>\n",
       "      <th>3</th>\n",
       "      <td>4</td>\n",
       "      <td>33</td>\n",
       "      <td>18</td>\n",
       "      <td>2025-05-28</td>\n",
       "      <td>Checkout</td>\n",
       "      <td>Drop-off</td>\n",
       "      <td>0.0</td>\n",
       "    </tr>\n",
       "    <tr>\n",
       "      <th>4</th>\n",
       "      <td>5</td>\n",
       "      <td>91</td>\n",
       "      <td>10</td>\n",
       "      <td>2023-02-11</td>\n",
       "      <td>Homepage</td>\n",
       "      <td>Click</td>\n",
       "      <td>156.0</td>\n",
       "    </tr>\n",
       "    <tr>\n",
       "      <th>...</th>\n",
       "      <td>...</td>\n",
       "      <td>...</td>\n",
       "      <td>...</td>\n",
       "      <td>...</td>\n",
       "      <td>...</td>\n",
       "      <td>...</td>\n",
       "      <td>...</td>\n",
       "    </tr>\n",
       "    <tr>\n",
       "      <th>95</th>\n",
       "      <td>96</td>\n",
       "      <td>22</td>\n",
       "      <td>9</td>\n",
       "      <td>2024-07-28</td>\n",
       "      <td>ProductPage</td>\n",
       "      <td>View</td>\n",
       "      <td>212.0</td>\n",
       "    </tr>\n",
       "    <tr>\n",
       "      <th>96</th>\n",
       "      <td>97</td>\n",
       "      <td>92</td>\n",
       "      <td>19</td>\n",
       "      <td>2025-05-26</td>\n",
       "      <td>homepage</td>\n",
       "      <td>View</td>\n",
       "      <td>203.0</td>\n",
       "    </tr>\n",
       "    <tr>\n",
       "      <th>97</th>\n",
       "      <td>98</td>\n",
       "      <td>95</td>\n",
       "      <td>8</td>\n",
       "      <td>2025-05-25</td>\n",
       "      <td>Homepage</td>\n",
       "      <td>Click</td>\n",
       "      <td>68.0</td>\n",
       "    </tr>\n",
       "    <tr>\n",
       "      <th>98</th>\n",
       "      <td>99</td>\n",
       "      <td>58</td>\n",
       "      <td>16</td>\n",
       "      <td>2024-07-06</td>\n",
       "      <td>Checkout</td>\n",
       "      <td>Purchase</td>\n",
       "      <td>87.0</td>\n",
       "    </tr>\n",
       "    <tr>\n",
       "      <th>99</th>\n",
       "      <td>100</td>\n",
       "      <td>92</td>\n",
       "      <td>10</td>\n",
       "      <td>2024-04-06</td>\n",
       "      <td>ProductPage</td>\n",
       "      <td>View</td>\n",
       "      <td>237.0</td>\n",
       "    </tr>\n",
       "  </tbody>\n",
       "</table>\n",
       "<p>100 rows × 7 columns</p>\n",
       "</div>"
      ],
      "text/plain": [
       "    JourneyID  CustomerID  ProductID   VisitDate        Stage    Action  \\\n",
       "0           1          64         18  2024-06-10     Checkout  Drop-off   \n",
       "1           2          94         11  2025-07-09     Checkout  Drop-off   \n",
       "2           3          34          8  2024-06-14  ProductPage      View   \n",
       "3           4          33         18  2025-05-28     Checkout  Drop-off   \n",
       "4           5          91         10  2023-02-11     Homepage     Click   \n",
       "..        ...         ...        ...         ...          ...       ...   \n",
       "95         96          22          9  2024-07-28  ProductPage      View   \n",
       "96         97          92         19  2025-05-26     homepage      View   \n",
       "97         98          95          8  2025-05-25     Homepage     Click   \n",
       "98         99          58         16  2024-07-06     Checkout  Purchase   \n",
       "99        100          92         10  2024-04-06  ProductPage      View   \n",
       "\n",
       "    Duration  \n",
       "0        0.0  \n",
       "1        0.0  \n",
       "2      235.0  \n",
       "3        0.0  \n",
       "4      156.0  \n",
       "..       ...  \n",
       "95     212.0  \n",
       "96     203.0  \n",
       "97      68.0  \n",
       "98      87.0  \n",
       "99     237.0  \n",
       "\n",
       "[100 rows x 7 columns]"
      ]
     },
     "execution_count": 79,
     "metadata": {},
     "output_type": "execute_result"
    }
   ],
   "source": [
    "df_customer_journey"
   ]
  },
  {
   "cell_type": "code",
   "execution_count": 81,
   "id": "70efa04e-a2a9-497b-98ac-b6aa84ef28df",
   "metadata": {},
   "outputs": [
    {
     "data": {
      "text/plain": [
       "0"
      ]
     },
     "execution_count": 81,
     "metadata": {},
     "output_type": "execute_result"
    }
   ],
   "source": [
    "df_customer_journey.duplicated().sum()\n"
   ]
  },
  {
   "cell_type": "code",
   "execution_count": 82,
   "id": "57ca6546-1d05-48d6-bf78-45b3af0a4534",
   "metadata": {},
   "outputs": [
    {
     "data": {
      "text/plain": [
       "JourneyID     0\n",
       "CustomerID    0\n",
       "ProductID     0\n",
       "VisitDate     0\n",
       "Stage         0\n",
       "Action        0\n",
       "Duration      0\n",
       "dtype: int64"
      ]
     },
     "execution_count": 82,
     "metadata": {},
     "output_type": "execute_result"
    }
   ],
   "source": [
    "df_customer_journey.isnull().sum()"
   ]
  },
  {
   "cell_type": "code",
   "execution_count": 83,
   "id": "0fe094a6-8f06-466b-ac3d-75db7394b9a2",
   "metadata": {},
   "outputs": [
    {
     "name": "stdout",
     "output_type": "stream",
     "text": [
      "<class 'pandas.core.frame.DataFrame'>\n",
      "RangeIndex: 100 entries, 0 to 99\n",
      "Data columns (total 7 columns):\n",
      " #   Column      Non-Null Count  Dtype  \n",
      "---  ------      --------------  -----  \n",
      " 0   JourneyID   100 non-null    int64  \n",
      " 1   CustomerID  100 non-null    int64  \n",
      " 2   ProductID   100 non-null    int64  \n",
      " 3   VisitDate   100 non-null    object \n",
      " 4   Stage       100 non-null    object \n",
      " 5   Action      100 non-null    object \n",
      " 6   Duration    100 non-null    float64\n",
      "dtypes: float64(1), int64(3), object(3)\n",
      "memory usage: 5.6+ KB\n"
     ]
    }
   ],
   "source": [
    "df_customer_journey.info()"
   ]
  },
  {
   "cell_type": "code",
   "execution_count": 84,
   "id": "78cd7bf2-c16f-45d9-8411-81da244c2d8a",
   "metadata": {},
   "outputs": [],
   "source": [
    "df_customer_journey['VisitDate'] = pd.to_datetime(df_customer_journey['VisitDate'])"
   ]
  },
  {
   "cell_type": "code",
   "execution_count": 85,
   "id": "8472f2d8-495b-46be-b8e2-4ac382c71b82",
   "metadata": {},
   "outputs": [
    {
     "name": "stdout",
     "output_type": "stream",
     "text": [
      "<class 'pandas.core.frame.DataFrame'>\n",
      "RangeIndex: 100 entries, 0 to 99\n",
      "Data columns (total 7 columns):\n",
      " #   Column      Non-Null Count  Dtype         \n",
      "---  ------      --------------  -----         \n",
      " 0   JourneyID   100 non-null    int64         \n",
      " 1   CustomerID  100 non-null    int64         \n",
      " 2   ProductID   100 non-null    int64         \n",
      " 3   VisitDate   100 non-null    datetime64[ns]\n",
      " 4   Stage       100 non-null    object        \n",
      " 5   Action      100 non-null    object        \n",
      " 6   Duration    100 non-null    float64       \n",
      "dtypes: datetime64[ns](1), float64(1), int64(3), object(2)\n",
      "memory usage: 5.6+ KB\n"
     ]
    }
   ],
   "source": [
    "df_customer_journey.info()"
   ]
  },
  {
   "cell_type": "code",
   "execution_count": 86,
   "id": "d86a067a-4274-4fdc-ad69-3eb7f9f15b12",
   "metadata": {},
   "outputs": [
    {
     "name": "stdout",
     "output_type": "stream",
     "text": [
      "<class 'pandas.core.frame.DataFrame'>\n",
      "RangeIndex: 20 entries, 0 to 19\n",
      "Data columns (total 4 columns):\n",
      " #   Column       Non-Null Count  Dtype  \n",
      "---  ------       --------------  -----  \n",
      " 0   ProductID    20 non-null     int64  \n",
      " 1   ProductName  20 non-null     object \n",
      " 2   Category     20 non-null     object \n",
      " 3   Price        20 non-null     float64\n",
      "dtypes: float64(1), int64(1), object(2)\n",
      "memory usage: 772.0+ bytes\n",
      "None\n"
     ]
    }
   ],
   "source": [
    "print(df_Products.info())\n",
    "df_Products.to_csv('Products.csv', index=False)\n"
   ]
  },
  {
   "cell_type": "code",
   "execution_count": 87,
   "id": "5ddb0e46-7bef-4186-8232-7a13c8d9bf3f",
   "metadata": {},
   "outputs": [
    {
     "name": "stdout",
     "output_type": "stream",
     "text": [
      "<class 'pandas.core.frame.DataFrame'>\n",
      "RangeIndex: 10 entries, 0 to 9\n",
      "Data columns (total 3 columns):\n",
      " #   Column       Non-Null Count  Dtype \n",
      "---  ------       --------------  ----- \n",
      " 0   GeographyID  10 non-null     int64 \n",
      " 1   Country      10 non-null     object\n",
      " 2   City         10 non-null     object\n",
      "dtypes: int64(1), object(2)\n",
      "memory usage: 372.0+ bytes\n",
      "None\n"
     ]
    }
   ],
   "source": [
    "print(df_Geography.info())\n",
    "df_Geography.to_csv('Geography.csv', index=False)\n"
   ]
  },
  {
   "cell_type": "code",
   "execution_count": 88,
   "id": "9e849bdc-af57-44f2-af7c-59fe6e7251d8",
   "metadata": {},
   "outputs": [
    {
     "name": "stdout",
     "output_type": "stream",
     "text": [
      "<class 'pandas.core.frame.DataFrame'>\n",
      "RangeIndex: 100 entries, 0 to 99\n",
      "Data columns (total 9 columns):\n",
      " #   Column          Non-Null Count  Dtype         \n",
      "---  ------          --------------  -----         \n",
      " 0   EngagementID    100 non-null    int64         \n",
      " 1   ContentID       100 non-null    int64         \n",
      " 2   ContentType     100 non-null    object        \n",
      " 3   Likes           100 non-null    int64         \n",
      " 4   EngagementDate  100 non-null    datetime64[ns]\n",
      " 5   CampaignID      100 non-null    int64         \n",
      " 6   ProductID       100 non-null    int64         \n",
      " 7   View            100 non-null    int64         \n",
      " 8   Clicks          100 non-null    int64         \n",
      "dtypes: datetime64[ns](1), int64(7), object(1)\n",
      "memory usage: 7.2+ KB\n",
      "None\n"
     ]
    }
   ],
   "source": [
    "print(df_Engagement_data.info())\n",
    "df_Engagement_data.to_csv('Engagement_data.csv', index=False)\n"
   ]
  },
  {
   "cell_type": "code",
   "execution_count": 89,
   "id": "c37962d9-f58f-4b94-80e4-56ccc122f3d0",
   "metadata": {},
   "outputs": [
    {
     "name": "stdout",
     "output_type": "stream",
     "text": [
      "<class 'pandas.core.frame.DataFrame'>\n",
      "RangeIndex: 100 entries, 0 to 99\n",
      "Data columns (total 6 columns):\n",
      " #   Column        Non-Null Count  Dtype \n",
      "---  ------        --------------  ----- \n",
      " 0   CustomerID    100 non-null    int64 \n",
      " 1   CustomerName  100 non-null    object\n",
      " 2   Email         100 non-null    object\n",
      " 3   Gender        100 non-null    object\n",
      " 4   Age           100 non-null    int64 \n",
      " 5   GeographyID   100 non-null    int64 \n",
      "dtypes: int64(3), object(3)\n",
      "memory usage: 4.8+ KB\n",
      "None\n"
     ]
    }
   ],
   "source": [
    "print(df_customers.info())\n",
    "df_customers.to_csv('customers.csv', index=False)\n"
   ]
  },
  {
   "cell_type": "code",
   "execution_count": 90,
   "id": "7c725b24-c826-488e-b4f0-ff965409ddb6",
   "metadata": {},
   "outputs": [
    {
     "name": "stdout",
     "output_type": "stream",
     "text": [
      "<class 'pandas.core.frame.DataFrame'>\n",
      "RangeIndex: 100 entries, 0 to 99\n",
      "Data columns (total 6 columns):\n",
      " #   Column      Non-Null Count  Dtype         \n",
      "---  ------      --------------  -----         \n",
      " 0   ReviewID    100 non-null    int64         \n",
      " 1   CustomerID  100 non-null    int64         \n",
      " 2   ProductID   100 non-null    int64         \n",
      " 3   ReviewDate  100 non-null    datetime64[ns]\n",
      " 4   Rating      100 non-null    int64         \n",
      " 5   ReviewText  100 non-null    object        \n",
      "dtypes: datetime64[ns](1), int64(4), object(1)\n",
      "memory usage: 4.8+ KB\n",
      "None\n"
     ]
    }
   ],
   "source": [
    "print(df_customer_reviews.info())\n",
    "df_customer_reviews.to_csv('customer_reviews.csv', index=False)\n"
   ]
  },
  {
   "cell_type": "code",
   "execution_count": 91,
   "id": "fded6826-a2a7-47da-962d-36b157bbb59c",
   "metadata": {},
   "outputs": [
    {
     "name": "stdout",
     "output_type": "stream",
     "text": [
      "<class 'pandas.core.frame.DataFrame'>\n",
      "RangeIndex: 100 entries, 0 to 99\n",
      "Data columns (total 7 columns):\n",
      " #   Column      Non-Null Count  Dtype         \n",
      "---  ------      --------------  -----         \n",
      " 0   JourneyID   100 non-null    int64         \n",
      " 1   CustomerID  100 non-null    int64         \n",
      " 2   ProductID   100 non-null    int64         \n",
      " 3   VisitDate   100 non-null    datetime64[ns]\n",
      " 4   Stage       100 non-null    object        \n",
      " 5   Action      100 non-null    object        \n",
      " 6   Duration    100 non-null    float64       \n",
      "dtypes: datetime64[ns](1), float64(1), int64(3), object(2)\n",
      "memory usage: 5.6+ KB\n",
      "None\n"
     ]
    }
   ],
   "source": [
    "print(df_customer_journey.info())\n",
    "df_customer_journey.to_csv('customer_journey.csv', index=False)\n"
   ]
  },
  {
   "cell_type": "markdown",
   "id": "971f9b07-37d8-4687-87cc-f4a595b67584",
   "metadata": {},
   "source": [
    "# Conversion of CSV files into Structured SQL tables through Python\n"
   ]
  },
  {
   "cell_type": "code",
   "execution_count": 92,
   "id": "00414b5d-e6b7-4d20-adbc-e3c1ca3c57be",
   "metadata": {},
   "outputs": [
    {
     "name": "stdout",
     "output_type": "stream",
     "text": [
      "Requirement already satisfied: mysql-connector-python in c:\\users\\ajay\\anaconda3\\lib\\site-packages (9.2.0)\n"
     ]
    }
   ],
   "source": [
    "!pip install mysql-connector-python\n"
   ]
  },
  {
   "cell_type": "code",
   "execution_count": 93,
   "id": "93f5c937-7711-4160-aacd-b029b65d6aad",
   "metadata": {},
   "outputs": [],
   "source": [
    "import mysql.connector\n",
    "\n",
    "mydb = mysql.connector.connect(\n",
    "  host=\"localhost\",\n",
    "  user=\"Sharmi\",\n",
    "  password=\"GUVI.Sharmi@May13\",\n",
    "  database=\"shopeasy\",\n",
    "    autocommit=True\n",
    ")\n",
    "\n",
    "mycursor = mydb.cursor()\n"
   ]
  },
  {
   "cell_type": "markdown",
   "id": "58dbc243-b57d-4c94-87f7-c1a4525ee22d",
   "metadata": {},
   "source": [
    "# Create customers table"
   ]
  },
  {
   "cell_type": "code",
   "execution_count": 94,
   "id": "ccbaa844-53c7-431a-9f54-b53d99582711",
   "metadata": {},
   "outputs": [],
   "source": [
    "mycursor.execute('''\n",
    "    CREATE TABLE IF NOT EXISTS customers (\n",
    "        Customer_ID INTEGER PRIMARY KEY,\n",
    "        CustomerName TEXT,\n",
    "        Email TEXT,\n",
    "        Gender TEXT,\n",
    "        Age INTEGER,\n",
    "        GeographyID INTEGER\n",
    "    )\n",
    "''')\n"
   ]
  },
  {
   "cell_type": "code",
   "execution_count": 95,
   "id": "af3b249d-f1b5-414a-bc7b-e4807b072f0c",
   "metadata": {},
   "outputs": [],
   "source": [
    "# ✅ Insert Data into Customers Table\n",
    "\n",
    "query = \"INSERT INTO Customers (Customer_ID, CustomerName, Email, Gender, Age, GeographyID) VALUES (%s, %s, %s, %s, %s, %s)\""
   ]
  },
  {
   "cell_type": "code",
   "execution_count": 96,
   "id": "a99cef8f-e81f-4cd3-b4d0-0c88b393b684",
   "metadata": {},
   "outputs": [],
   "source": [
    "values = [tuple(x) for x in df_customers.to_numpy()]"
   ]
  },
  {
   "cell_type": "markdown",
   "id": "f4f37982-f3c7-40c7-8d3c-da91c48a90dc",
   "metadata": {},
   "source": [
    "# Create Products table "
   ]
  },
  {
   "cell_type": "code",
   "execution_count": 97,
   "id": "d205b15c-65c8-4baa-ba19-27d102f67bb0",
   "metadata": {},
   "outputs": [],
   "source": [
    "mycursor.execute('''\n",
    "    CREATE TABLE IF NOT EXISTS products (\n",
    "        ProductID INT PRIMARY KEY,\n",
    "        ProductName TEXT,\n",
    "        Category TEXT,\n",
    "        Price DECIMAL(10,2)\n",
    "    )\n",
    "''')\n"
   ]
  },
  {
   "cell_type": "code",
   "execution_count": 98,
   "id": "a6a038fc-7b00-4021-bac6-0cc99c39e22f",
   "metadata": {},
   "outputs": [],
   "source": [
    "# ✅ Insert Data into Products Table\n",
    "\n",
    "query = \"\"\"\n",
    "    INSERT INTO products (ProductID, ProductName, Category, Price) \n",
    "    VALUES (%s, %s, %s, %s)\n",
    "\"\"\"\n"
   ]
  },
  {
   "cell_type": "code",
   "execution_count": 99,
   "id": "d81086ca-ef3e-425d-9b1e-5567819712e7",
   "metadata": {},
   "outputs": [],
   "source": [
    "values = [tuple(x) for x in df_Products.to_numpy()]"
   ]
  },
  {
   "cell_type": "markdown",
   "id": "851b36fe-708c-4241-896d-3d69dab637b8",
   "metadata": {},
   "source": [
    "# Create Geography table "
   ]
  },
  {
   "cell_type": "code",
   "execution_count": 100,
   "id": "01d6598c-e245-41e2-b612-d1c3b6e292f0",
   "metadata": {},
   "outputs": [],
   "source": [
    "mycursor.execute('''\n",
    "    CREATE TABLE IF NOT EXISTS Geography (\n",
    "        GeographyID INT PRIMARY KEY,\n",
    "        Country TEXT ,\n",
    "        City TEXT \n",
    "    )\n",
    "''')"
   ]
  },
  {
   "cell_type": "code",
   "execution_count": 101,
   "id": "30c87945-e5bd-4ff6-99ad-1928f5e7038b",
   "metadata": {},
   "outputs": [],
   "source": [
    "# ✅ Insert Data into Geography Table\n",
    "\n",
    "query = \"\"\"\n",
    "    INSERT INTO Geography (GeographyID, Country, City) \n",
    "    VALUES (%s, %s, %s)\n",
    "\"\"\""
   ]
  },
  {
   "cell_type": "code",
   "execution_count": 102,
   "id": "f9328546-613d-49aa-9df6-537bddf20dea",
   "metadata": {},
   "outputs": [],
   "source": [
    "values = [tuple(x) for x in df_Geography.to_numpy()]"
   ]
  },
  {
   "cell_type": "markdown",
   "id": "ec149b6d-ad53-4ef9-bb5d-aa13c46e337d",
   "metadata": {},
   "source": [
    "# Create Engagement_data table "
   ]
  },
  {
   "cell_type": "code",
   "execution_count": 103,
   "id": "6c3b79a1-f6e2-4332-908e-6861137623b4",
   "metadata": {},
   "outputs": [],
   "source": [
    "mycursor.execute('''\n",
    "    CREATE TABLE IF NOT EXISTS engagements (\n",
    "        EngagementID INT PRIMARY KEY,\n",
    "        ContentID INT NOT NULL,\n",
    "        ContentType VARCHAR(50) NOT NULL,\n",
    "        Likes INT DEFAULT 0,\n",
    "        EngagementDate DATE NOT NULL,\n",
    "        CampaignID INT,\n",
    "        ProductID INT,\n",
    "        View INT DEFAULT 0,\n",
    "        Clicks INT DEFAULT 0\n",
    "    )\n",
    "''')"
   ]
  },
  {
   "cell_type": "code",
   "execution_count": 104,
   "id": "9de48512-b580-48eb-a9bf-0a6076078ddc",
   "metadata": {},
   "outputs": [],
   "source": [
    "# ✅ Insert Data into Engagement_Data Table\n",
    "\n",
    "query = \"\"\"\n",
    "    INSERT INTO engagements (EngagementID, ContentID, ContentType, Likes, EngagementDate, \n",
    "                             CampaignID, ProductID, View, Clicks) \n",
    "    VALUES (%s, %s, %s, %s, %s, %s, %s, %s, %s)\n",
    "\"\"\""
   ]
  },
  {
   "cell_type": "code",
   "execution_count": 105,
   "id": "9211a4eb-8fd3-44c4-8919-7941fe02e9b0",
   "metadata": {},
   "outputs": [],
   "source": [
    "values = [tuple(x) for x in df_Engagement_data.to_numpy()]"
   ]
  },
  {
   "cell_type": "markdown",
   "id": "726a2c96-d4b3-48f3-9750-2606cc165aad",
   "metadata": {},
   "source": [
    "# Create Customer_reviews table "
   ]
  },
  {
   "cell_type": "code",
   "execution_count": 106,
   "id": "bcf9adad-0135-4388-a80d-26c9390110a9",
   "metadata": {},
   "outputs": [],
   "source": [
    "mycursor.execute('''\n",
    "    CREATE TABLE IF NOT EXISTS customer_reviews (\n",
    "        ReviewID INT PRIMARY KEY,\n",
    "        CustomerID INT NOT NULL,\n",
    "        ProductID INT NOT NULL,\n",
    "        ReviewDate DATE NOT NULL,\n",
    "        Rating INT ,\n",
    "        ReviewText TEXT\n",
    "    )\n",
    "''')"
   ]
  },
  {
   "cell_type": "code",
   "execution_count": 107,
   "id": "9ca808ee-283d-4c46-955d-983e5a5693ff",
   "metadata": {},
   "outputs": [],
   "source": [
    "# ✅ Insert Data into Customer_Reviews Table\n",
    "\n",
    "\n",
    "query = \"\"\"\n",
    "    INSERT INTO customer_reviews (ReviewID,CustomerID, ProductID, ReviewDate, Rating, ReviewText) \n",
    "    VALUES (%s,%s, %s, %s, %s, %s)\n",
    "\"\"\"\n"
   ]
  },
  {
   "cell_type": "code",
   "execution_count": 108,
   "id": "19c4069e-ad7a-4165-b631-9fb87138d3df",
   "metadata": {},
   "outputs": [],
   "source": [
    "values = [tuple(x) for x in df_customer_reviews.to_numpy()]"
   ]
  },
  {
   "cell_type": "markdown",
   "id": "5491dc1e-d103-464a-9f25-d4717d1a58db",
   "metadata": {},
   "source": [
    "# Create Customer_journey table "
   ]
  },
  {
   "cell_type": "code",
   "execution_count": 109,
   "id": "4572506b-12a7-432e-8171-d850029318b3",
   "metadata": {},
   "outputs": [],
   "source": [
    "mycursor.execute('''\n",
    "    CREATE TABLE IF NOT EXISTS customer_journey (\n",
    "        JourneyID INT PRIMARY KEY ,\n",
    "        CustomerID INT NOT NULL,\n",
    "        ProductID INT NOT NULL,\n",
    "        VisitDate DATE NOT NULL,\n",
    "        Stage TEXT NOT NULL,\n",
    "        Action TEXT NOT NULL,\n",
    "        Duration DECIMAL(10,2) \n",
    "    )\n",
    "''')"
   ]
  },
  {
   "cell_type": "code",
   "execution_count": 110,
   "id": "383d9340-4025-44a5-9df7-8f5b497f7cfb",
   "metadata": {},
   "outputs": [],
   "source": [
    "# ✅ Insert Data into Customer_Journey Table\n",
    "\n",
    "query = \"\"\"\n",
    "    INSERT INTO customer_journey (JourneyID,CustomerID, ProductID, VisitDate, Stage, Action, Duration) \n",
    "    VALUES(%s,%s, %s, %s, %s, %s, %s)\n",
    "\"\"\""
   ]
  },
  {
   "cell_type": "code",
   "execution_count": 111,
   "id": "4b7568b1-248d-4364-91bd-51057adcb759",
   "metadata": {},
   "outputs": [],
   "source": [
    "values = [tuple(x) for x in df_customer_journey.to_numpy()]"
   ]
  },
  {
   "cell_type": "markdown",
   "id": "ad06a755-12f4-49db-aab2-5048b0439083",
   "metadata": {},
   "source": [
    "# Data Extraction & Transformation (SQL & Python):\n"
   ]
  },
  {
   "cell_type": "code",
   "execution_count": 112,
   "id": "1229976f-2152-409c-a3ce-832543fa5675",
   "metadata": {},
   "outputs": [],
   "source": [
    "import pandas as pd\n"
   ]
  },
  {
   "cell_type": "code",
   "execution_count": 113,
   "id": "8e196e0f-5bdf-4ce3-acac-a4c56d7627dc",
   "metadata": {},
   "outputs": [],
   "source": [
    "# Load cleaned datasets (assume cleaned_data is already defined)\n",
    "\n",
    "customers = pd.read_csv(\"customers.csv\")\n",
    "geography = pd.read_csv(\"geography.csv\")\n",
    "products  = pd.read_csv(\"Products.csv\")\n",
    "customer_engagement = pd.read_csv(\"Engagement_data.csv\")\n",
    "customer_journey = pd.read_csv(\"customer_journey.csv\")\n",
    "customer_reviews = pd.read_csv(\"customer_reviews.csv\")\n"
   ]
  },
  {
   "cell_type": "code",
   "execution_count": 114,
   "id": "e1ebdd68-ade7-428f-be59-b98fab1d91d6",
   "metadata": {},
   "outputs": [],
   "source": [
    "# Step 1: Perform Joins\n",
    "# Join Customers with Geography\n",
    "\n",
    "customers_geo = pd.merge(customers, geography, how='left', left_on='GeographyID', right_on='GeographyID')\n"
   ]
  },
  {
   "cell_type": "code",
   "execution_count": 115,
   "id": "d056de2e-6699-4316-a9a4-c08ca3a5e93c",
   "metadata": {},
   "outputs": [],
   "source": [
    "# Join Engagement Data with Products\n",
    "\n",
    "Engagement_products = pd.merge(customer_engagement, products, how='left', left_on='ProductID', right_on='ProductID')\n"
   ]
  },
  {
   "cell_type": "code",
   "execution_count": 116,
   "id": "7c64741d-8c6e-43f2-a59f-f5392b807413",
   "metadata": {},
   "outputs": [],
   "source": [
    "# Join Customer Reviews with Customers and Products\n",
    "\n",
    "reviews_full = pd.merge(customer_reviews, customers_geo, how='left', on='CustomerID')\n",
    "reviews_full = pd.merge(reviews_full, products, how='left', on='ProductID')"
   ]
  },
  {
   "cell_type": "code",
   "execution_count": 117,
   "id": "cb00d251-3be4-4f22-babb-f6638fd4c7e4",
   "metadata": {},
   "outputs": [],
   "source": [
    "# Step 2: Apply Window Functions\n",
    "# Example: Rank Customers by Number of Reviews\n",
    "\n",
    "reviews_full['ReviewCount'] = reviews_full.groupby('CustomerID')['ReviewID'].transform('count')\n",
    "reviews_full['RankByReviews'] = reviews_full.groupby('Country')['ReviewCount'].rank(ascending=False, method='dense')\n"
   ]
  },
  {
   "cell_type": "code",
   "execution_count": 118,
   "id": "927063ff-9a7a-45ad-afdf-4151ea704607",
   "metadata": {},
   "outputs": [],
   "source": [
    "# Example: Calculate Running Total of Engagements per Product\n",
    "\n",
    "Engagement_products.rename(columns={'View': 'Views'}, inplace=True)\n"
   ]
  },
  {
   "cell_type": "code",
   "execution_count": 119,
   "id": "8e48dafe-ae91-4073-932c-cc4b3e110c9b",
   "metadata": {},
   "outputs": [],
   "source": [
    "# Step 3: Use CTEs and Subqueries\n",
    "# Example: Find Top-Reviewed Products (Simulated CTE)\n",
    "\n",
    "Engagement_products['RunningTotalViews'] = Engagement_products.groupby('ProductID')['Views'].cumsum()\n"
   ]
  },
  {
   "cell_type": "code",
   "execution_count": 120,
   "id": "49e56c6a-5adf-441c-9813-9508abab89e5",
   "metadata": {},
   "outputs": [],
   "source": [
    "reviews_summary = reviews_full.groupby('ProductID').agg({\n",
    "    'Rating': 'mean',\n",
    "    'ReviewID': 'count'\n",
    "}).rename(columns={'Rating': 'AverageRating', 'ReviewID': 'TotalReviews'})\n"
   ]
  },
  {
   "cell_type": "code",
   "execution_count": 121,
   "id": "a6c6c00a-b1c3-41b9-9ffb-319ecacc2d09",
   "metadata": {},
   "outputs": [],
   "source": [
    "# Filter Products with More than 10 Reviews and High Average Rating\n",
    "\n",
    "top_reviewed_products = reviews_summary[(reviews_summary['TotalReviews'] >=3) & (reviews_summary['AverageRating'] >= 4.0)]"
   ]
  },
  {
   "cell_type": "code",
   "execution_count": 122,
   "id": "9e825b23-57c6-4a81-97b7-fb791770c334",
   "metadata": {},
   "outputs": [],
   "source": [
    "# Example: Average Engagement by Product Category (Subquery Simulation)\n",
    "\n",
    "average_engagement = Engagement_products.groupby('Category').agg({\n",
    "    'Views': 'mean',\n",
    "    'Clicks': 'mean'\n",
    "}).rename(columns={'Views': 'AvgViews', 'Clicks': 'AvgClicks'})\n"
   ]
  },
  {
   "cell_type": "code",
   "execution_count": 123,
   "id": "cd34410c-7a33-4757-88d0-a230ea72309c",
   "metadata": {},
   "outputs": [
    {
     "name": "stdout",
     "output_type": "stream",
     "text": [
      "Customers with Geography:\n",
      "   CustomerID      CustomerName                         Email Gender  Age  \\\n",
      "0           1     Emma Anderson     emma.anderson@example.com      M   50   \n",
      "1           2       Sarah Brown       sarah.brown@example.com      F   37   \n",
      "2           3  Robert Hernandez  robert.hernandez@example.com      F   26   \n",
      "3           4      David Garcia      david.garcia@example.com      M   25   \n",
      "4           5       Emma Miller       emma.miller@example.com      F   41   \n",
      "\n",
      "   GeographyID      Country       City  \n",
      "0            2      Germany     Berlin  \n",
      "1            4        Spain     Madrid  \n",
      "2            6  Netherlands  Amsterdam  \n",
      "3            8       Sweden  Stockholm  \n",
      "4            4        Spain     Madrid  \n"
     ]
    }
   ],
   "source": [
    "print(\"Customers with Geography:\")\n",
    "print(customers_geo.head())"
   ]
  },
  {
   "cell_type": "code",
   "execution_count": 124,
   "id": "df721b41-9d31-466e-a458-dac00537ac7e",
   "metadata": {},
   "outputs": [
    {
     "name": "stdout",
     "output_type": "stream",
     "text": [
      "\n",
      "Engagement with Products:\n",
      "   EngagementID  ContentID ContentType  Likes EngagementDate  CampaignID  \\\n",
      "0             1         39        Blog    190     2023-08-30           1   \n",
      "1             2         48        Blog    114     2023-03-28          18   \n",
      "2             3         16       video     32     2023-12-08           7   \n",
      "3             4         43       Video     17     2025-01-21          19   \n",
      "4             5         16  newsletter    306     2024-02-21           6   \n",
      "\n",
      "   ProductID  Views  Clicks     ProductName Category   Price  \\\n",
      "0          9   1883     671  Baseball Glove   Sports  327.36   \n",
      "1         20   5280     532   Boxing Gloves   Sports  262.32   \n",
      "2         14   1905     204  Cycling Helmet   Sports  472.32   \n",
      "3         20   2766     257   Boxing Gloves   Sports  262.32   \n",
      "4         15   5116    1524   Climbing Rope   Sports  410.17   \n",
      "\n",
      "   RunningTotalViews  \n",
      "0               1883  \n",
      "1               5280  \n",
      "2               1905  \n",
      "3               8046  \n",
      "4               5116  \n"
     ]
    }
   ],
   "source": [
    "print(\"\\nEngagement with Products:\")\n",
    "print(Engagement_products.head())"
   ]
  },
  {
   "cell_type": "code",
   "execution_count": 125,
   "id": "659b2f7e-903a-4443-9485-87d939064cca",
   "metadata": {},
   "outputs": [
    {
     "name": "stdout",
     "output_type": "stream",
     "text": [
      "\n",
      "Top Reviewed Products:\n",
      "           AverageRating  TotalReviews\n",
      "ProductID                             \n",
      "1                    4.0             4\n",
      "5                    4.0             3\n",
      "8                    5.0             3\n",
      "11                   4.0             6\n",
      "15                   4.0             6\n"
     ]
    }
   ],
   "source": [
    "print(\"\\nTop Reviewed Products:\")\n",
    "print(top_reviewed_products.head())"
   ]
  },
  {
   "cell_type": "code",
   "execution_count": 126,
   "id": "87b60719-de23-47fa-8f95-3480d2f16ded",
   "metadata": {},
   "outputs": [
    {
     "name": "stdout",
     "output_type": "stream",
     "text": [
      "\n",
      "Average Engagement by Category:\n",
      "          AvgViews  AvgClicks\n",
      "Category                     \n",
      "Sports     2270.45     469.51\n"
     ]
    }
   ],
   "source": [
    "print(\"\\nAverage Engagement by Category:\")\n",
    "print(average_engagement.head())"
   ]
  },
  {
   "cell_type": "code",
   "execution_count": 127,
   "id": "eaf35f97-f8d5-463b-84d8-e8594a51451d",
   "metadata": {},
   "outputs": [],
   "source": [
    "# Identify drop-off points in the customer journey.\n",
    "\n",
    "drop_offs = customer_journey[customer_journey['Action'] == 'Drop-off']\n"
   ]
  },
  {
   "cell_type": "code",
   "execution_count": 128,
   "id": "b9fa66fe-7463-4831-b156-6192a6eac95a",
   "metadata": {},
   "outputs": [],
   "source": [
    "drop_off_summary = drop_offs['Stage'].value_counts().reset_index()\n"
   ]
  },
  {
   "cell_type": "code",
   "execution_count": 129,
   "id": "4a0aaa1e-080e-4e49-baec-d17069d842b3",
   "metadata": {},
   "outputs": [],
   "source": [
    "drop_off_summary.columns = ['Stage', 'DropOffCount']\n"
   ]
  },
  {
   "cell_type": "code",
   "execution_count": 130,
   "id": "b254cb0c-c123-4ce1-b5a6-889392cf748d",
   "metadata": {},
   "outputs": [
    {
     "name": "stdout",
     "output_type": "stream",
     "text": [
      "\n",
      "--- Drop-off Summary ---\n",
      "      Stage  DropOffCount\n",
      "0  Checkout            12\n",
      "1  checkout             2\n"
     ]
    }
   ],
   "source": [
    "print(\"\\n--- Drop-off Summary ---\")\n",
    "print(drop_off_summary)\n"
   ]
  },
  {
   "cell_type": "code",
   "execution_count": 131,
   "id": "24632ec5-0168-4ed0-8404-65ccb22569e9",
   "metadata": {},
   "outputs": [
    {
     "data": {
      "text/plain": [
       "array(['Drop-off', 'View', 'Click', 'Purchase'], dtype=object)"
      ]
     },
     "execution_count": 131,
     "metadata": {},
     "output_type": "execute_result"
    }
   ],
   "source": [
    "# Check unique actions to infer what counts as a conversion\n",
    "customer_journey['Action'].unique()\n"
   ]
  },
  {
   "cell_type": "code",
   "execution_count": 132,
   "id": "fb250890-5f78-429e-a17c-281f1464ce22",
   "metadata": {},
   "outputs": [],
   "source": [
    "successful_journeys = customer_journey[customer_journey['Action'] == 'Purchase']\n"
   ]
  },
  {
   "cell_type": "code",
   "execution_count": 133,
   "id": "39ce73d6-7272-4ba7-b970-d6fe6d8ba674",
   "metadata": {},
   "outputs": [],
   "source": [
    "customer_journey['VisitDate'] = pd.to_datetime(customer_journey['VisitDate'])\n",
    "journey_sorted = customer_journey.sort_values(by=['CustomerID', 'VisitDate'])\n"
   ]
  },
  {
   "cell_type": "code",
   "execution_count": 134,
   "id": "498f3f02-577a-46cc-9c47-2eccf06cd066",
   "metadata": {},
   "outputs": [],
   "source": [
    "# Count the most common actions before purchase\n",
    "\n",
    "purchase_ids = successful_journeys['JourneyID'].tolist()\n",
    "pre_purchase_actions = journey_sorted[journey_sorted['JourneyID'].isin(purchase_ids)]\n"
   ]
  },
  {
   "cell_type": "code",
   "execution_count": 135,
   "id": "641e1e7f-613b-4d92-8392-ec5cf3f6a02a",
   "metadata": {},
   "outputs": [],
   "source": [
    "actions_before_purchase = pre_purchase_actions['Action'].value_counts().reset_index()\n",
    "actions_before_purchase.columns = ['Action', 'Count']"
   ]
  },
  {
   "cell_type": "code",
   "execution_count": 136,
   "id": "89437bd2-3de7-4149-bb09-99d828a7e232",
   "metadata": {},
   "outputs": [
    {
     "name": "stdout",
     "output_type": "stream",
     "text": [
      "     Action  Count\n",
      "0  Purchase      6\n"
     ]
    }
   ],
   "source": [
    "# common actions leading to successful conversions.\n",
    "\n",
    "print(actions_before_purchase)"
   ]
  },
  {
   "cell_type": "code",
   "execution_count": 137,
   "id": "826fa38f-0d08-4fc8-ac52-fd33b22d821b",
   "metadata": {},
   "outputs": [],
   "source": [
    "# Calculate average duration per stage for engagement insights.\n",
    "\n",
    "avg_duration = customer_journey.groupby('Stage')['Duration'].mean().reset_index()\n",
    "avg_duration.columns = ['Stage', 'AvgDuration']"
   ]
  },
  {
   "cell_type": "code",
   "execution_count": 138,
   "id": "5ef9731c-f375-443d-b343-440a76f23594",
   "metadata": {},
   "outputs": [
    {
     "name": "stdout",
     "output_type": "stream",
     "text": [
      "\n",
      "--- Average Duration per Stage ---\n",
      "         Stage  AvgDuration\n",
      "0     Checkout    50.055556\n",
      "1     Homepage   158.520000\n",
      "2  ProductPage   186.666667\n",
      "3     checkout     0.000000\n",
      "4     homepage   185.750000\n",
      "5  productpage   136.000000\n"
     ]
    }
   ],
   "source": [
    "print(\"\\n--- Average Duration per Stage ---\")\n",
    "print(avg_duration)\n"
   ]
  },
  {
   "cell_type": "code",
   "execution_count": 139,
   "id": "f0de2d79-8a09-43b6-a578-7c5ce9c328dd",
   "metadata": {},
   "outputs": [
    {
     "data": {
      "text/plain": [
       "(    ProductID  AverageRating      ProductName Category   Price\n",
       " 7           8            5.0  Football Helmet   Sports   44.75\n",
       " 17         19            4.4     Hockey Stick   Sports  173.83\n",
       " 0           1            4.0    Running Shoes   Sports  223.75\n",
       " 16         18            4.0       Volleyball   Sports   42.80\n",
       " 13         15            4.0    Climbing Rope   Sports  410.17,\n",
       "     ProductID  AverageRating     ProductName Category   Price\n",
       " 6           7       2.666667      Basketball   Sports  225.12\n",
       " 3           4       3.000000       Dumbbells   Sports   26.21\n",
       " 11         12       3.000000      Ice Skates   Sports   37.56\n",
       " 8           9       3.400000  Baseball Glove   Sports  327.36\n",
       " 14         16       3.400000           Kayak   Sports  259.40)"
      ]
     },
     "execution_count": 139,
     "metadata": {},
     "output_type": "execute_result"
    }
   ],
   "source": [
    "# Identify highest-rated and lowest-rated products using SQL.\n",
    "\n",
    "avg_ratings = customer_reviews.groupby('ProductID')['Rating'].mean().reset_index()\n",
    "avg_ratings.columns = ['ProductID', 'AverageRating']\n",
    "\n",
    "product_ratings = pd.merge(avg_ratings, products, on='ProductID')\n",
    "\n",
    "\n",
    "top_rated = product_ratings.sort_values(by='AverageRating', ascending=False).head(5)\n",
    "bottom_rated = product_ratings.sort_values(by='AverageRating', ascending=True).head(5)\n",
    "\n",
    "top_rated, bottom_rated\n"
   ]
  },
  {
   "cell_type": "markdown",
   "id": "cd10038a-c139-46b7-9032-ed44a051c377",
   "metadata": {},
   "source": [
    "# Sentiment Analysis "
   ]
  },
  {
   "cell_type": "code",
   "execution_count": 140,
   "id": "42112be0-6e68-46c7-86c9-1210c05ec69c",
   "metadata": {},
   "outputs": [
    {
     "name": "stdout",
     "output_type": "stream",
     "text": [
      "Requirement already satisfied: pandas in c:\\users\\ajay\\anaconda3\\lib\\site-packages (2.2.2)\n",
      "Requirement already satisfied: textblob in c:\\users\\ajay\\anaconda3\\lib\\site-packages (0.19.0)\n",
      "Requirement already satisfied: numpy>=1.26.0 in c:\\users\\ajay\\anaconda3\\lib\\site-packages (from pandas) (1.26.4)\n",
      "Requirement already satisfied: python-dateutil>=2.8.2 in c:\\users\\ajay\\anaconda3\\lib\\site-packages (from pandas) (2.9.0.post0)\n",
      "Requirement already satisfied: pytz>=2020.1 in c:\\users\\ajay\\anaconda3\\lib\\site-packages (from pandas) (2024.1)\n",
      "Requirement already satisfied: tzdata>=2022.7 in c:\\users\\ajay\\anaconda3\\lib\\site-packages (from pandas) (2023.3)\n",
      "Requirement already satisfied: nltk>=3.9 in c:\\users\\ajay\\anaconda3\\lib\\site-packages (from textblob) (3.9.1)\n",
      "Requirement already satisfied: click in c:\\users\\ajay\\anaconda3\\lib\\site-packages (from nltk>=3.9->textblob) (8.1.7)\n",
      "Requirement already satisfied: joblib in c:\\users\\ajay\\anaconda3\\lib\\site-packages (from nltk>=3.9->textblob) (1.4.2)\n",
      "Requirement already satisfied: regex>=2021.8.3 in c:\\users\\ajay\\anaconda3\\lib\\site-packages (from nltk>=3.9->textblob) (2024.9.11)\n",
      "Requirement already satisfied: tqdm in c:\\users\\ajay\\anaconda3\\lib\\site-packages (from nltk>=3.9->textblob) (4.66.5)\n",
      "Requirement already satisfied: six>=1.5 in c:\\users\\ajay\\anaconda3\\lib\\site-packages (from python-dateutil>=2.8.2->pandas) (1.16.0)\n",
      "Requirement already satisfied: colorama in c:\\users\\ajay\\anaconda3\\lib\\site-packages (from click->nltk>=3.9->textblob) (0.4.6)\n",
      "Note: you may need to restart the kernel to use updated packages.\n"
     ]
    }
   ],
   "source": [
    "pip install pandas textblob\n"
   ]
  },
  {
   "cell_type": "code",
   "execution_count": 267,
   "id": "68a3d34a-a084-4c03-8a76-1d2d37d05f44",
   "metadata": {},
   "outputs": [
    {
     "name": "stdout",
     "output_type": "stream",
     "text": [
      "Sentiment Distribution:\n",
      "SentimentCategory\n",
      "Positive    84\n",
      "Negative    11\n",
      "Neutral      5\n",
      "Name: count, dtype: int64\n",
      "\n",
      "Average Rating by Sentiment Category:\n",
      "SentimentCategory\n",
      "Negative    2.454545\n",
      "Neutral     3.200000\n",
      "Positive    3.928571\n",
      "Name: Rating, dtype: float64\n",
      "\n",
      "Top 5 Products by Average Sentiment Score:\n",
      "ProductID\n",
      "8     0.644444\n",
      "9     0.625000\n",
      "11    0.597222\n",
      "7     0.566667\n",
      "19    0.536667\n",
      "Name: SentimentScore, dtype: float64\n"
     ]
    }
   ],
   "source": [
    "import pandas as pd\n",
    "from textblob import TextBlob\n",
    "\n",
    "\n",
    "reviews_df = pd.read_csv(\"customer_reviews.csv\")\n",
    "\n",
    "\n",
    "reviews_df['ReviewText'] = reviews_df['ReviewText'].astype(str).str.strip()\n",
    "\n",
    "\n",
    "reviews_df['SentimentScore'] = reviews_df['ReviewText'].apply(lambda x: TextBlob(x).sentiment.polarity)\n",
    "\n",
    "\n",
    "def categorize_sentiment(score):\n",
    "    if score > 0.1:\n",
    "        return 'Positive'\n",
    "    elif score < -0.1:\n",
    "        return 'Negative'\n",
    "    else:\n",
    "        return 'Neutral'\n",
    "\n",
    "reviews_df['SentimentCategory'] = reviews_df['SentimentScore'].apply(categorize_sentiment)\n",
    "\n",
    "\n",
    "print(\"Sentiment Distribution:\")\n",
    "print(reviews_df['SentimentCategory'].value_counts())\n",
    "\n",
    "\n",
    "sentiment_rating_summary = reviews_df.groupby('SentimentCategory')['Rating'].mean()\n",
    "print(\"\\nAverage Rating by Sentiment Category:\")\n",
    "print(sentiment_rating_summary)\n",
    "\n",
    "\n",
    "product_sentiment_summary = reviews_df.groupby('ProductID')['SentimentScore'].mean().sort_values(ascending=False)\n",
    "print(\"\\nTop 5 Products by Average Sentiment Score:\")\n",
    "print(product_sentiment_summary.head())\n",
    "\n",
    "\n",
    "reviews_df.to_csv(\"customer_reviews_with_sentiment.csv\", index=False)\n"
   ]
  },
  {
   "cell_type": "code",
   "execution_count": null,
   "id": "580b6b41-6bb3-4e34-964e-44dc19b8bf1f",
   "metadata": {},
   "outputs": [],
   "source": []
  }
 ],
 "metadata": {
  "kernelspec": {
   "display_name": "Python [conda env:base] *",
   "language": "python",
   "name": "conda-base-py"
  },
  "language_info": {
   "codemirror_mode": {
    "name": "ipython",
    "version": 3
   },
   "file_extension": ".py",
   "mimetype": "text/x-python",
   "name": "python",
   "nbconvert_exporter": "python",
   "pygments_lexer": "ipython3",
   "version": "3.12.7"
  }
 },
 "nbformat": 4,
 "nbformat_minor": 5
}
